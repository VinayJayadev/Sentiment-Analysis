{
  "cells": [
    {
      "cell_type": "code",
      "execution_count": null,
      "metadata": {
        "id": "nRBhe_55Xupd"
      },
      "outputs": [],
      "source": [
        "load_previous_model = True\n",
        "folder = \"/content/drive/Shareddrives/DATA/DATA SCIENCE/MACHINE LEARNING MODELS/transformers/sentiment-analysis\""
      ]
    },
    {
      "cell_type": "code",
      "source": [
        "\"\"\"\n",
        "# check instance specs\n",
        "!sudo apt install inxi\n",
        "!inxi -Fxz\n",
        "\"\"\""
      ],
      "metadata": {
        "colab": {
          "base_uri": "https://localhost:8080/",
          "height": 35
        },
        "id": "u1wPFzyLxjEd",
        "outputId": "c4fcfcb9-dc2c-4623-ad78-081c34872f94"
      },
      "execution_count": null,
      "outputs": [
        {
          "output_type": "execute_result",
          "data": {
            "text/plain": [
              "'\\n# check instance specs\\n!sudo apt install inxi\\n!inxi -Fxz\\n'"
            ],
            "application/vnd.google.colaboratory.intrinsic+json": {
              "type": "string"
            }
          },
          "metadata": {},
          "execution_count": 4
        }
      ]
    },
    {
      "cell_type": "markdown",
      "metadata": {
        "id": "wAXCVwkXof3U"
      },
      "source": [
        "# Install packages"
      ]
    },
    {
      "cell_type": "code",
      "execution_count": null,
      "metadata": {
        "colab": {
          "base_uri": "https://localhost:8080/"
        },
        "id": "Qexw3hKHJUk9",
        "outputId": "5cfe2a9d-4a89-434e-bf82-f20d12970cef"
      },
      "outputs": [
        {
          "output_type": "stream",
          "name": "stdout",
          "text": [
            "Mounted at /content/drive\n"
          ]
        }
      ],
      "source": [
        "from google.colab import drive\n",
        "drive.mount('/content/drive')"
      ]
    },
    {
      "cell_type": "code",
      "execution_count": null,
      "metadata": {
        "id": "9prG9WXxojt3",
        "colab": {
          "base_uri": "https://localhost:8080/"
        },
        "outputId": "29f90073-34df-4a8f-f3a9-20eec7515a2f"
      },
      "outputs": [
        {
          "output_type": "stream",
          "name": "stdout",
          "text": [
            "\u001b[2K     \u001b[90m━━━━━━━━━━━━━━━━━━━━━━━━━━━━━━━━━━━━━━━\u001b[0m \u001b[32m175.4/175.4 kB\u001b[0m \u001b[31m5.0 MB/s\u001b[0m eta \u001b[36m0:00:00\u001b[0m\n",
            "\u001b[?25h  Preparing metadata (setup.py) ... \u001b[?25l\u001b[?25hdone\n",
            "\u001b[2K     \u001b[90m━━━━━━━━━━━━━━━━━━━━━━━━━━━━━━━━━━━━━━━━\u001b[0m \u001b[32m53.1/53.1 kB\u001b[0m \u001b[31m7.1 MB/s\u001b[0m eta \u001b[36m0:00:00\u001b[0m\n",
            "\u001b[?25h  Building wheel for emoji (setup.py) ... \u001b[?25l\u001b[?25hdone\n",
            "\u001b[2K     \u001b[90m━━━━━━━━━━━━━━━━━━━━━━━━━━━━━━━━━━━━━━━\u001b[0m \u001b[32m235.5/235.5 kB\u001b[0m \u001b[31m4.3 MB/s\u001b[0m eta \u001b[36m0:00:00\u001b[0m\n",
            "\u001b[2K     \u001b[90m━━━━━━━━━━━━━━━━━━━━━━━━━━━━━━━━━━━━━━━━\u001b[0m \u001b[32m7.7/7.7 MB\u001b[0m \u001b[31m25.9 MB/s\u001b[0m eta \u001b[36m0:00:00\u001b[0m\n",
            "\u001b[2K     \u001b[90m━━━━━━━━━━━━━━━━━━━━━━━━━━━━━━━━━━━━━━\u001b[0m \u001b[32m295.0/295.0 kB\u001b[0m \u001b[31m33.3 MB/s\u001b[0m eta \u001b[36m0:00:00\u001b[0m\n",
            "\u001b[2K     \u001b[90m━━━━━━━━━━━━━━━━━━━━━━━━━━━━━━━━━━━━━━━━\u001b[0m \u001b[32m3.8/3.8 MB\u001b[0m \u001b[31m67.3 MB/s\u001b[0m eta \u001b[36m0:00:00\u001b[0m\n",
            "\u001b[2K     \u001b[90m━━━━━━━━━━━━━━━━━━━━━━━━━━━━━━━━━━━━━━━━\u001b[0m \u001b[32m1.3/1.3 MB\u001b[0m \u001b[31m68.7 MB/s\u001b[0m eta \u001b[36m0:00:00\u001b[0m\n",
            "\u001b[2K     \u001b[90m━━━━━━━━━━━━━━━━━━━━━━━━━━━━━━━━━━━━━━\u001b[0m \u001b[32m268.8/268.8 kB\u001b[0m \u001b[31m25.5 MB/s\u001b[0m eta \u001b[36m0:00:00\u001b[0m\n",
            "\u001b[?25h"
          ]
        }
      ],
      "source": [
        "!pip install clean-text --quiet\n",
        "!pip install unidecode --quiet\n",
        "!pip install gspread --quiet\n",
        "!pip install transformers --quiet"
      ]
    },
    {
      "cell_type": "code",
      "execution_count": null,
      "metadata": {
        "id": "q6OgT1B-KWg8",
        "colab": {
          "base_uri": "https://localhost:8080/"
        },
        "outputId": "1bc039b3-593a-4aaa-f9f6-578335328f12"
      },
      "outputs": [
        {
          "output_type": "stream",
          "name": "stdout",
          "text": [
            "\u001b[2K     \u001b[90m━━━━━━━━━━━━━━━━━━━━━━━━━━━━━━━━━━━━━━━\u001b[0m \u001b[32m454.7/454.7 kB\u001b[0m \u001b[31m6.5 MB/s\u001b[0m eta \u001b[36m0:00:00\u001b[0m\n",
            "\u001b[2K     \u001b[90m━━━━━━━━━━━━━━━━━━━━━━━━━━━━━━━━━━━━━━━━\u001b[0m \u001b[32m14.6/14.6 MB\u001b[0m \u001b[31m44.6 MB/s\u001b[0m eta \u001b[36m0:00:00\u001b[0m\n",
            "\u001b[2K     \u001b[90m━━━━━━━━━━━━━━━━━━━━━━━━━━━━━━━━━━━━━━━\u001b[0m \u001b[32m212.7/212.7 kB\u001b[0m \u001b[31m3.4 MB/s\u001b[0m eta \u001b[36m0:00:00\u001b[0m\n",
            "\u001b[2K     \u001b[90m━━━━━━━━━━━━━━━━━━━━━━━━━━━━━━━━━━━━━━━━\u001b[0m \u001b[32m46.0/46.0 kB\u001b[0m \u001b[31m5.3 MB/s\u001b[0m eta \u001b[36m0:00:00\u001b[0m\n",
            "\u001b[2K     \u001b[90m━━━━━━━━━━━━━━━━━━━━━━━━━━━━━━━━━━━━━━━━\u001b[0m \u001b[32m55.5/55.5 kB\u001b[0m \u001b[31m4.9 MB/s\u001b[0m eta \u001b[36m0:00:00\u001b[0m\n",
            "\u001b[2K     \u001b[90m━━━━━━━━━━━━━━━━━━━━━━━━━━━━━━━━━━━━━━━━\u001b[0m \u001b[32m86.8/86.8 kB\u001b[0m \u001b[31m8.4 MB/s\u001b[0m eta \u001b[36m0:00:00\u001b[0m\n",
            "\u001b[2K     \u001b[90m━━━━━━━━━━━━━━━━━━━━━━━━━━━━━━━━━━━━━━━\u001b[0m \u001b[32m301.0/301.0 kB\u001b[0m \u001b[31m4.0 MB/s\u001b[0m eta \u001b[36m0:00:00\u001b[0m\n",
            "\u001b[?25h  Installing build dependencies ... \u001b[?25l\u001b[?25hdone\n",
            "  Getting requirements to build wheel ... \u001b[?25l\u001b[?25hdone\n",
            "  Preparing metadata (pyproject.toml) ... \u001b[?25l\u001b[?25hdone\n",
            "\u001b[2K     \u001b[90m━━━━━━━━━━━━━━━━━━━━━━━━━━━━━━━━━━━━━━\u001b[0m \u001b[32m519.6/519.6 kB\u001b[0m \u001b[31m10.5 MB/s\u001b[0m eta \u001b[36m0:00:00\u001b[0m\n",
            "\u001b[2K     \u001b[90m━━━━━━━━━━━━━━━━━━━━━━━━━━━━━━━━━━━━━━━\u001b[0m \u001b[32m153.4/153.4 MB\u001b[0m \u001b[31m3.3 MB/s\u001b[0m eta \u001b[36m0:00:00\u001b[0m\n",
            "\u001b[2K     \u001b[90m━━━━━━━━━━━━━━━━━━━━━━━━━━━━━━━━━━━━━━━━\u001b[0m \u001b[32m81.4/81.4 kB\u001b[0m \u001b[31m7.8 MB/s\u001b[0m eta \u001b[36m0:00:00\u001b[0m\n",
            "\u001b[2K     \u001b[90m━━━━━━━━━━━━━━━━━━━━━━━━━━━━━━━━━━━━━━\u001b[0m \u001b[32m258.1/258.1 kB\u001b[0m \u001b[31m13.4 MB/s\u001b[0m eta \u001b[36m0:00:00\u001b[0m\n",
            "\u001b[2K     \u001b[90m━━━━━━━━━━━━━━━━━━━━━━━━━━━━━━━━━━━━━━━\u001b[0m \u001b[32m115.3/115.3 kB\u001b[0m \u001b[31m5.9 MB/s\u001b[0m eta \u001b[36m0:00:00\u001b[0m\n",
            "\u001b[2K     \u001b[90m━━━━━━━━━━━━━━━━━━━━━━━━━━━━━━━━━━━━━━\u001b[0m \u001b[32m194.1/194.1 kB\u001b[0m \u001b[31m20.2 MB/s\u001b[0m eta \u001b[36m0:00:00\u001b[0m\n",
            "\u001b[2K     \u001b[90m━━━━━━━━━━━━━━━━━━━━━━━━━━━━━━━━━━━━━━\u001b[0m \u001b[32m134.8/134.8 kB\u001b[0m \u001b[31m15.3 MB/s\u001b[0m eta \u001b[36m0:00:00\u001b[0m\n",
            "\u001b[2K     \u001b[90m━━━━━━━━━━━━━━━━━━━━━━━━━━━━━━━━━━━━━━━━\u001b[0m \u001b[32m1.3/1.3 MB\u001b[0m \u001b[31m43.2 MB/s\u001b[0m eta \u001b[36m0:00:00\u001b[0m\n",
            "\u001b[?25h  Building wheel for optimum (pyproject.toml) ... \u001b[?25l\u001b[?25hdone\n"
          ]
        }
      ],
      "source": [
        "#####################################\n",
        "# ONNX\n",
        "!pip install tf2onnx --quiet\n",
        "!pip install onnxruntime-tools --quiet\n",
        "#!pip install onnxruntime --quiet\n",
        "#!pip install onnxruntime_gpu --quiet\n",
        "!pip install optimum[onnxruntime-gpu] --quiet\n",
        "#!pip install onnx-tf  --quiet"
      ]
    },
    {
      "cell_type": "markdown",
      "metadata": {
        "id": "onb10nr9m8O3"
      },
      "source": [
        "# Load packages"
      ]
    },
    {
      "cell_type": "code",
      "execution_count": null,
      "metadata": {
        "colab": {
          "base_uri": "https://localhost:8080/"
        },
        "id": "XdL61NCCb3Ty",
        "outputId": "61ec0b26-6705-409f-9940-43fd098846ca"
      },
      "outputs": [
        {
          "output_type": "stream",
          "name": "stdout",
          "text": [
            "Drive already mounted at /content/drive; to attempt to forcibly remount, call drive.mount(\"/content/drive\", force_remount=True).\n"
          ]
        }
      ],
      "source": [
        "#####################################\n",
        "# basic packages\n",
        "import pandas as pd\n",
        "pd.options.mode.chained_assignment = None  # default='warn'\n",
        "import numpy as np\n",
        "import seaborn as sns\n",
        "import timeit\n",
        "from tqdm import tqdm\n",
        "import matplotlib.pyplot as plt\n",
        "import math\n",
        "import re\n",
        "import gc\n",
        "\n",
        "# suppress scientific notation\n",
        "pd.set_option('display.float_format', lambda x: '%.3f' % x)\n",
        "\n",
        "#####################################\n",
        "# clean text\n",
        "from cleantext.sklearn import CleanTransformer\n",
        "\n",
        "cleaner = CleanTransformer(\n",
        "    fix_unicode=True,               # fix various unicode errors\n",
        "    to_ascii=True,                  # transliterate to closest ASCII representation\n",
        "    lower=False,                     # lowercase text\n",
        "    no_line_breaks=True,           # fully strip line breaks as opposed to only normalizing them\n",
        "    no_urls=False,                  # replace all URLs with a special token\n",
        "    no_emails=False,                # replace all email addresses with a special token\n",
        "    no_phone_numbers=False,         # replace all phone numbers with a special token\n",
        "    no_numbers=False,               # replace all numbers with a special token\n",
        "    no_digits=False,                # replace all digits with a special token\n",
        "    no_currency_symbols=False,      # replace all currency symbols with a special token\n",
        "    no_punct=False,                 # remove punctuations\n",
        "    replace_with_punct=\"\",          # instead of removing punctuations you may replace them\n",
        "    replace_with_url=\"<URL>\",\n",
        "    replace_with_email=\"<EMAIL>\",\n",
        "    replace_with_phone_number=\"<PHONE>\",\n",
        "    replace_with_number=\"<NUMBER>\",\n",
        "    replace_with_digit=\"0\",\n",
        "    replace_with_currency_symbol=\"<CUR>\",\n",
        "    lang=\"en\"                       # set to 'de' for German special handling\n",
        ")\n",
        "\n",
        "#####################################\n",
        "# connecting with Google Drive\n",
        "import gspread\n",
        "from google.colab import auth\n",
        "auth.authenticate_user()\n",
        "from google.auth import default\n",
        "\n",
        "creds, _ = default()\n",
        "gcolab = gspread.authorize(creds)\n",
        "\n",
        "from google.colab import drive\n",
        "drive.mount('/content/drive')\n",
        "\n",
        "#####################################\n",
        "# ML/CUDA\n",
        "from numba import cuda\n",
        "from transformers import pipeline\n",
        "from transformers import AutoTokenizer\n",
        "from sklearn.metrics import classification_report\n",
        "from sklearn.metrics import confusion_matrix\n",
        "from sklearn.metrics import ConfusionMatrixDisplay\n",
        "from sklearn.metrics import accuracy_score\n",
        "from sklearn.model_selection import train_test_split\n",
        "from scipy.special import softmax\n",
        "from transformers import TFAutoModelForSequenceClassification, AutoTokenizer\n",
        "import tensorflow as tf\n",
        "from tensorflow.keras.optimizers import Adam\n",
        "from tensorflow.keras.losses import CategoricalCrossentropy\n",
        "import torch"
      ]
    },
    {
      "cell_type": "markdown",
      "metadata": {
        "id": "EqbT5Hw622uj"
      },
      "source": [
        "# Load and prep data; test-train split"
      ]
    },
    {
      "cell_type": "code",
      "execution_count": null,
      "metadata": {
        "id": "TE79hAS1SsET"
      },
      "outputs": [],
      "source": [
        "#####################################\n",
        "# load and clean data\n",
        "gsheets = gcolab.open_by_url('https://docs.google.com/spreadsheets/d/1BQiqe04bIJAqBX')\n",
        "sheets = gsheets.sheet1.get_all_values()\n",
        "df = pd.DataFrame(sheets[1:], columns=sheets[0]).set_index(\"doc_id\")\n",
        "df = df[[\"text\", \"label\", \"source\"]]\n",
        "\n",
        "df[\"text\"] = cleaner.transform(df[\"text\"])\n",
        "df[\"label\"] = df[\"label\"].astype(int)"
      ]
    },
    {
      "cell_type": "code",
      "execution_count": null,
      "metadata": {
        "id": "fwjtGEkqoWPR"
      },
      "outputs": [],
      "source": [
        "# test and train datasets\n",
        "df_test = df[df[\"source\"] == \"MAPEGY_TEST\"]\n",
        "df_train = df[df[\"source\"] == \"MAPEGY_TRAIN\"]"
      ]
    },
    {
      "cell_type": "markdown",
      "metadata": {
        "id": "aszVhzsRe5SW"
      },
      "source": [
        "# Load or finetune model"
      ]
    },
    {
      "cell_type": "code",
      "execution_count": null,
      "metadata": {
        "id": "3ZU_NQMMsd2y",
        "colab": {
          "base_uri": "https://localhost:8080/",
          "referenced_widgets": [
            "fec6e3ff56d345978f257c5347d26ffe",
            "7f13bc5a270642678769b5990939f2d5",
            "5c24e19c32b64ea5b360231b4545b172",
            "47dfdf4a31e0470fb820498a9d8b6f8b",
            "41979b61d7c54a76bd7965d3747e7f3c",
            "3eba98e756314a579a429879759b33aa",
            "20f9b593ed1448d9900747f1db6c605f",
            "aec7c05199904bc685ecbcf94cd706ac",
            "75c0877b6f5d4d3d876e7c763c0952db",
            "be9fabd64b0644a09a784c37ff20de21",
            "fc162ccb7384458f93439e31c9031739",
            "5f53b0352f274463a0071f6d0de2fafb",
            "9fe73f0e55ff4416b86726b643247a07",
            "b477b77bfeee4a6e9e981fb624597d58",
            "de866b3d3d054f578cd42bbc9aa30e5e",
            "a3f3f09144124c108b13c4c268904bb6",
            "e2f13ad9972246d19dce7b267a5115f4",
            "d43b241bda4647b797407d42ad44b2d2",
            "1fcb6d25490c46b9abe5afac2fcca58b",
            "160e7720865e418984bb8f01d2809716",
            "3132639e837246d48b8d22bb7f639bc8",
            "df71b6b17a994298adff4f080ed00557",
            "6bf143dc10714a26808864248a9ad290",
            "791f04d78e4f455a9466be2ba4e0c025",
            "3589c72e123143cd82aa84f90a444d26",
            "728472aa5ebe4e6da73660e4099385ee",
            "8dccba8ad1e443b48889547115408229",
            "8e4e14d68e1345c2be2d1e019d041599",
            "92625b5407444fc89a3c5bddaa1f299a",
            "3e9bf399af234fb3a388826a1e7783e5",
            "2a0ff80f67b4415398e5bf2218f079ae",
            "8002463b28ad43fb851d01b67f1e01fa",
            "f7de32f1d4774369af6ffb3156432bad",
            "aff0b0921f594653b75107399095160c",
            "80313d58f1c54dc89be61068c888eccc",
            "2c2cd93f1a2d42d79366ca79e5f5b638",
            "b235332fd1b14aa1a18e7939a5696f09",
            "9634a3e714d940d59a77ff7c408d43a3",
            "832869e5313e46ca904685544fefc579",
            "7703dea83f0540d48765362f052e7230",
            "dde6ea4045b7410a972d69bf7cf1fe75",
            "a70185d5bc694943a5e232fb03259071",
            "db23ac606ab1458f8d538b71d58db97d",
            "5fffbd0bfc1641a0bb9c4c879c88c549"
          ],
          "height": 145
        },
        "outputId": "0bc1c8c9-96ae-47a7-d572-e9ca79d43e0f"
      },
      "outputs": [
        {
          "output_type": "display_data",
          "data": {
            "text/plain": [
              "Downloading (…)lve/main/config.json:   0%|          | 0.00/480 [00:00<?, ?B/s]"
            ],
            "application/vnd.jupyter.widget-view+json": {
              "version_major": 2,
              "version_minor": 0,
              "model_id": "fec6e3ff56d345978f257c5347d26ffe"
            }
          },
          "metadata": {}
        },
        {
          "output_type": "display_data",
          "data": {
            "text/plain": [
              "Downloading (…)olve/main/vocab.json:   0%|          | 0.00/899k [00:00<?, ?B/s]"
            ],
            "application/vnd.jupyter.widget-view+json": {
              "version_major": 2,
              "version_minor": 0,
              "model_id": "5f53b0352f274463a0071f6d0de2fafb"
            }
          },
          "metadata": {}
        },
        {
          "output_type": "display_data",
          "data": {
            "text/plain": [
              "Downloading (…)olve/main/merges.txt:   0%|          | 0.00/456k [00:00<?, ?B/s]"
            ],
            "application/vnd.jupyter.widget-view+json": {
              "version_major": 2,
              "version_minor": 0,
              "model_id": "6bf143dc10714a26808864248a9ad290"
            }
          },
          "metadata": {}
        },
        {
          "output_type": "display_data",
          "data": {
            "text/plain": [
              "Downloading (…)/main/tokenizer.json:   0%|          | 0.00/1.36M [00:00<?, ?B/s]"
            ],
            "application/vnd.jupyter.widget-view+json": {
              "version_major": 2,
              "version_minor": 0,
              "model_id": "aff0b0921f594653b75107399095160c"
            }
          },
          "metadata": {}
        }
      ],
      "source": [
        "####################################\n",
        "# load tokenizer\n",
        "pretrained = \"distilroberta-base\"\n",
        "tokenizer = AutoTokenizer.from_pretrained(pretrained)"
      ]
    },
    {
      "cell_type": "code",
      "execution_count": null,
      "metadata": {
        "colab": {
          "base_uri": "https://localhost:8080/"
        },
        "id": "xaPnEtUPiAVd",
        "outputId": "ec4be1e8-90be-43c7-e2c6-d6a97a518001"
      },
      "outputs": [
        {
          "output_type": "stream",
          "name": "stdout",
          "text": [
            "Google Drive folder: /content/drive/Shareddrives/DATA/DATA SCIENCE/MACHINE LEARNING MODELS/transformers/sentiment-analysis\n"
          ]
        },
        {
          "output_type": "stream",
          "name": "stderr",
          "text": [
            "All model checkpoint layers were used when initializing TFRobertaForSequenceClassification.\n",
            "\n",
            "All the layers of TFRobertaForSequenceClassification were initialized from the model checkpoint at /content/drive/Shareddrives/DATA/DATA SCIENCE/MACHINE LEARNING MODELS/transformers/sentiment-analysis.\n",
            "If your task is similar to the task the model of the checkpoint was trained on, you can already use TFRobertaForSequenceClassification for predictions without further training.\n"
          ]
        },
        {
          "output_type": "stream",
          "name": "stdout",
          "text": [
            "Loaded model from Google Drive\n"
          ]
        }
      ],
      "source": [
        "####################################\n",
        "# make results reproducable\n",
        "# doesn't work?\n",
        "np.random.seed(123)\n",
        "tf.random.set_seed(321)\n",
        "print(\"Google Drive folder:\", folder)\n",
        "\n",
        "if load_previous_model:\n",
        "  model = TFAutoModelForSequenceClassification.from_pretrained(folder)\n",
        "  print(\"Loaded model from Google Drive\")\n",
        "else:\n",
        "  tic = timeit.default_timer()\n",
        "  #################################\n",
        "  # prep training data\n",
        "  X = tokenizer(list(df_train[\"text\"]), return_tensors=\"np\", truncation=True, padding=True)\n",
        "  # Tokenizer returns a BatchEncoding, but we convert that to a dict for Keras\n",
        "  X = dict(X)\n",
        "\n",
        "  # one-hot encoding to make sure input is interpeted as intended\n",
        "  y = []\n",
        "  for s in list(df_train[\"label\"]):\n",
        "    if s == -1:\n",
        "      y.append(np.array([1, 0, 0]))\n",
        "    if s == 0:\n",
        "      y.append(np.array([0, 1, 0]))\n",
        "    if s == 1:\n",
        "      y.append(np.array([0, 0, 1]))\n",
        "\n",
        "  y = np.array(y)\n",
        "\n",
        "  ####################################\n",
        "  # fit model\n",
        "  # Lower learning rates are often better for fine-tuning transformers\n",
        "  model = TFAutoModelForSequenceClassification.from_pretrained(pretrained, num_labels=3)\n",
        "  model.compile(optimizer=Adam(3e-5), loss=CategoricalCrossentropy(from_logits=True), metrics = ['categorical_accuracy'])\n",
        "  model.fit(X, y, batch_size=16, epochs=6, validation_data=(X_test, y_test))\n",
        "\n",
        "  toc = timeit.default_timer()\n",
        "  print('Runtime model finetuning: ', round(toc - tic, 3), ' secs.')\n",
        "\n",
        "  #model.save_pretrained(folder)\n",
        "  #print(\"Saved model to Google Drive\")\n",
        "  print(\"Model *not* saved to Google Drive\")"
      ]
    },
    {
      "cell_type": "markdown",
      "metadata": {
        "id": "CLHK2W8CAtTi"
      },
      "source": [
        "# Convert model into ONNX format and quantize"
      ]
    },
    {
      "cell_type": "code",
      "execution_count": null,
      "metadata": {
        "id": "MHMiD6v9AsjM"
      },
      "outputs": [],
      "source": [
        "########################################\n",
        "# Load ONNX packages\n",
        "import tf2onnx.convert\n",
        "import onnx\n",
        "import onnxruntime as ort\n",
        "from onnxruntime.quantization import quantize_dynamic\n",
        "#from onnxruntime.quantization import quantize_dynamic, QuantType\n",
        "#from onnxruntime.quantization import QuantizationMode, quantize\n",
        "#!pip install mxnet==1.3.0 --quiet\n",
        "#!pip install numpy==1.23.3 -- quiet\n",
        "#!pip install -q tensorflow-model-optimization --quiet\n",
        "\n",
        "########################################\n",
        "# define paths\n",
        "onnx_model_path = folder + \"/model.onnx\"\n",
        "quantized_model_path = folder + \"/quant_model.onnx\""
      ]
    },
    {
      "cell_type": "code",
      "execution_count": null,
      "metadata": {
        "colab": {
          "base_uri": "https://localhost:8080/"
        },
        "id": "JdNwHsbBAztK",
        "outputId": "43c2f0bd-b164-4819-dccc-935c08a9e510"
      },
      "outputs": [
        {
          "output_type": "stream",
          "name": "stderr",
          "text": [
            "Exception ignored in: <function _xla_gc_callback at 0x795967acbd90>\n",
            "Traceback (most recent call last):\n",
            "  File \"/usr/local/lib/python3.10/dist-packages/jax/_src/lib/__init__.py\", line 98, in _xla_gc_callback\n",
            "    def _xla_gc_callback(*args):\n",
            "KeyboardInterrupt: \n"
          ]
        }
      ],
      "source": [
        "################################################################################\n",
        "# Convert the TensorFlow model to ONNX format\n",
        "onnx_model, _ = tf2onnx.convert.from_keras(model)\n",
        "onnx.save_model(onnx_model, onnx_model_path)\n",
        "onnx_model = onnx_model.SerializeToString()\n",
        "\n",
        "# apply quantization\n",
        "quantize_dynamic(onnx_model_path, quantized_model_path, per_channel=False)\n",
        "quantized_model = onnx.load_model(quantized_model_path).SerializeToString()"
      ]
    },
    {
      "cell_type": "markdown",
      "metadata": {
        "id": "4xSeitQLBV5f"
      },
      "source": [
        "# Tokenize/prepare test data"
      ]
    },
    {
      "cell_type": "code",
      "execution_count": null,
      "metadata": {
        "id": "radfDAZIBb9V"
      },
      "outputs": [],
      "source": [
        "############################################################################################################\n",
        "# features\n",
        "X_test = dict(tokenizer(list(df_test[\"text\"]), return_tensors=\"np\", truncation=True, padding=True))\n",
        "\n",
        "# different format, for inference w/ ONNX\n",
        "X_test_onnx = tokenizer(list(df_test[\"text\"]), return_tensors=\"pt\", truncation=True, padding=True)\n",
        "X_test_onnx['token_type_ids'] = torch.zeros_like(X_test_onnx['attention_mask'])\n",
        "# Convert the input tensors to int32 numpy arrays\n",
        "X_test_onnx = {'input_ids': X_test_onnx['input_ids'].numpy().astype(np.int32),\n",
        "             'attention_mask': X_test_onnx['attention_mask'].numpy().astype(np.int32),\n",
        "             'token_type_ids': X_test_onnx['token_type_ids'].numpy().astype(np.int32)}\n",
        "\n",
        "############################################################################################################\n",
        "# labels\n",
        "y_test = []\n",
        "for s in list(df_test[\"label\"]):\n",
        "  if s == -1:\n",
        "    y_test.append(np.array([1, 0, 0]))\n",
        "  if s == 0:\n",
        "    y_test.append(np.array([0, 1, 0]))\n",
        "  if s == 1:\n",
        "    y_test.append(np.array([0, 0, 1]))\n",
        "\n",
        "y_test = np.array(y_test)"
      ]
    },
    {
      "cell_type": "markdown",
      "metadata": {
        "id": "3S4zsRhl77t5"
      },
      "source": [
        "# Define function for running inference and measuring runtime"
      ]
    },
    {
      "cell_type": "code",
      "execution_count": null,
      "metadata": {
        "id": "M_pZzjaq7cFj"
      },
      "outputs": [],
      "source": [
        "######################################################################\n",
        "# function to produce predictions given model and test data\n",
        "# with or without GPU\n",
        "def infer(model, X, use_gpu = True):\n",
        "  tic = timeit.default_timer()\n",
        "  if use_gpu:\n",
        "      try:\n",
        "        # if it is a tensorflow model\n",
        "        with tf.device('/gpu:0'):\n",
        "          logits = model.predict(X).logits\n",
        "      except:\n",
        "        # if it is an ONNX model\n",
        "        session_gpu = ort.InferenceSession(model, providers = ['CUDAExecutionProvider'])\n",
        "        logits = session_gpu.run(None, X)[0]\n",
        "  else:\n",
        "      try:\n",
        "        with tf.device('/cpu:0'):\n",
        "          logits = model.predict(X).logits\n",
        "      except:\n",
        "        session_cpu = ort.InferenceSession(model, providers = ['CPUExecutionProvider'])\n",
        "        logits = session_cpu.run(None, X)[0]\n",
        "\n",
        "  # convert logits to scores and labels\n",
        "  labels = []\n",
        "  scores = []\n",
        "  for s in logits:\n",
        "    s = softmax(s)\n",
        "    score = -s[0] + s[2]\n",
        "    scores.append(score)\n",
        "\n",
        "    pos = pd.Series(s).idxmax()\n",
        "    if pos == 0:\n",
        "      labels.append(-1)\n",
        "    elif pos == 1:\n",
        "      labels.append(0)\n",
        "    else:\n",
        "      labels.append(1)\n",
        "\n",
        "  scores = [round(s, 3) for s in scores]\n",
        "  toc = timeit.default_timer()\n",
        "  runtime = round(toc - tic, 3)\n",
        "  performance = round(X[\"input_ids\"].shape[0] / runtime, 1)\n",
        "  return labels, scores, runtime, performance"
      ]
    },
    {
      "cell_type": "markdown",
      "metadata": {
        "id": "Nno-v5Fd7lSJ"
      },
      "source": [
        "# Run inference"
      ]
    },
    {
      "cell_type": "code",
      "execution_count": null,
      "metadata": {
        "id": "-Co6Ml0BlAx7"
      },
      "outputs": [],
      "source": [
        "#####################################\n",
        "# non-quantized, CPU\n",
        "df_test[\"pred_cpu\"], df_test[\"score_cpu\"], runtime_cpu, performance_cpu = infer(model, X_test, use_gpu = False)\n",
        "print('Runtime prediction non-quantized model (CPU): ', runtime_cpu, ' secs.')"
      ]
    },
    {
      "cell_type": "code",
      "execution_count": null,
      "metadata": {
        "id": "4rmpuyQYJhMY"
      },
      "outputs": [],
      "source": [
        "#####################################\n",
        "# quantized, CPU, ONNX\n",
        "df_test[\"pred_cpu_quantized\"], df_test[\"score_cpu_quantized\"], runtime_cpu_quantized, performance_cpu_quantized = infer(quantized_model, X_test_onnx, use_gpu = False)\n",
        "print('Runtime prediction quantized ONNX model (CPU): ', runtime_cpu_quantized, ' secs.')"
      ]
    },
    {
      "cell_type": "code",
      "execution_count": null,
      "metadata": {
        "id": "pPcBXGj_QyZr"
      },
      "outputs": [],
      "source": [
        "#####################################\n",
        "# non-quantized, CPU, ONNX\n",
        "df_test[\"pred_cpu_onnx\"], df_test[\"score_cpu_onnx\"], runtime_cpu_onnx, performance_cpu_onnx = infer(onnx_model, X_test_onnx, use_gpu = False)\n",
        "print('Runtime prediction non-quantized ONNX model (CPU): ', runtime_cpu_onnx, ' secs.')"
      ]
    },
    {
      "cell_type": "code",
      "execution_count": null,
      "metadata": {
        "colab": {
          "base_uri": "https://localhost:8080/"
        },
        "id": "Xl6O3Ui1R3xe",
        "outputId": "7e87380d-04d0-4ea0-8153-08631c14e004"
      },
      "outputs": [
        {
          "output_type": "stream",
          "name": "stdout",
          "text": [
            "Runtime prediction non-quantized ONNX model (GPU):  1.833  secs.\n"
          ]
        }
      ],
      "source": [
        "##########################################################################\n",
        "# reset CUDA device to\n",
        "# clear GPU memory,\n",
        "# may produce Colab runtime errors & crash though:\n",
        "# cuda.get_current_device().reset()\n",
        "##########################################################################\n",
        "# non-quantized, GPU, ONNX:\n",
        "# quantized model wouldn't run on GPU, might not be supported\n",
        "df_test[\"pred_gpu_onnx\"], df_test[\"score_gpu_onnx\"], runtime_gpu_onnx, performance_gpu_onnx = infer(onnx_model, X_test_onnx, use_gpu = True)\n",
        "print('Runtime prediction non-quantized ONNX model (GPU): ', runtime_gpu_onnx, ' secs.')"
      ]
    },
    {
      "cell_type": "code",
      "execution_count": null,
      "metadata": {
        "colab": {
          "base_uri": "https://localhost:8080/"
        },
        "id": "kfEdG-6n2XTg",
        "outputId": "cbdf215d-99b1-4785-e394-9563c10f353c"
      },
      "outputs": [
        {
          "output_type": "stream",
          "name": "stdout",
          "text": [
            "10/10 [==============================] - 1s 72ms/step\n",
            "Runtime prediction non-quantized model (GPU):  1.421  secs.\n"
          ]
        }
      ],
      "source": [
        "#####################################\n",
        "# non-quantized, GPU\n",
        "df_test[\"pred_gpu\"], df_test[\"score_gpu\"], runtime_gpu, performance_gpu = infer(model, X_test, use_gpu = True)\n",
        "print('Runtime prediction non-quantized model (GPU): ', runtime_gpu, ' secs.')"
      ]
    },
    {
      "cell_type": "markdown",
      "metadata": {
        "id": "Xv1hV9ztl5Mw"
      },
      "source": [
        "# Evaluation of results"
      ]
    },
    {
      "cell_type": "code",
      "execution_count": null,
      "metadata": {
        "colab": {
          "base_uri": "https://localhost:8080/"
        },
        "id": "_izjOHmZmZgF",
        "outputId": "e18fef93-e30b-48fe-a1a3-41b9baa54f0a"
      },
      "outputs": [
        {
          "output_type": "display_data",
          "data": {
            "text/plain": [
              "<Figure size 2000x1000 with 5 Axes>"
            ],
            "image/png": "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\n"
          },
          "metadata": {}
        }
      ],
      "source": [
        "#####################################\n",
        "# plot confusion matrices\n",
        "fig, (ax1, ax2, ax3, ax4, ax5) = plt.subplots(1, 5)\n",
        "fig.set_figheight(10)\n",
        "fig.set_figwidth(20)\n",
        "\n",
        "CM_cpu = ConfusionMatrixDisplay(confusion_matrix(df_test[\"label\"], df_test[\"pred_cpu\"], labels = [-1, 0, 1], normalize = \"pred\"), display_labels = [-1, 0, 1])\n",
        "CM_cpu_onnx = ConfusionMatrixDisplay(confusion_matrix(df_test[\"label\"], df_test[\"pred_cpu_onnx\"], labels = [-1, 0, 1], normalize = \"pred\"), display_labels = [-1, 0, 1])\n",
        "CM_gpu = ConfusionMatrixDisplay(confusion_matrix(df_test[\"label\"], df_test[\"pred_gpu\"], labels = [-1, 0, 1], normalize = \"pred\"), display_labels = [-1, 0, 1])\n",
        "CM_cpu_quant = ConfusionMatrixDisplay(confusion_matrix(df_test[\"label\"], df_test[\"pred_cpu_quantized\"], labels = [-1, 0, 1], normalize = \"pred\"), display_labels = [-1, 0, 1])\n",
        "CM_gpu_onnx = ConfusionMatrixDisplay(confusion_matrix(df_test[\"label\"], df_test[\"pred_gpu_onnx\"], labels = [-1, 0, 1], normalize = \"pred\"), display_labels = [-1, 0, 1])\n",
        "\n",
        "CM_cpu.plot(ax=ax1, cmap = \"Blues\", colorbar = False)\n",
        "CM_cpu.ax_.title.set_text('CPU: ' + str(performance_cpu) + ' ex/sec.\\naccuracy: ' + str(round(accuracy_score(df_test['label'], df_test['pred_cpu']), 3)))\n",
        "CM_cpu.ax_.get_images()[0].set_clim(0, 0.95)\n",
        "\n",
        "CM_cpu_onnx.plot(ax=ax2, cmap = \"Blues\", colorbar = False)\n",
        "CM_cpu_onnx.ax_.title.set_text('CPU (ONNX): ' + str(performance_cpu) + ' ex/sec.\\naccuracy: ' + str(round(accuracy_score(df_test['label'], df_test['pred_cpu_onnx']), 3)))\n",
        "CM_cpu_onnx.ax_.get_images()[0].set_clim(0, 0.95)\n",
        "\n",
        "CM_cpu_quant.plot(ax=ax3, cmap = \"Greens\", colorbar = False)\n",
        "CM_cpu_quant.ax_.title.set_text('CPU (ONNX, quantized): ' + str(performance_cpu_quantized) + ' ex/sec.\\naccuracy: ' + str(round(accuracy_score(df_test['label'], df_test['pred_cpu_quantized']), 3)))\n",
        "CM_cpu_quant.ax_.get_images()[0].set_clim(0, 0.95)\n",
        "\n",
        "CM_gpu.plot(ax=ax4, cmap = \"Blues\", colorbar = False)\n",
        "CM_gpu.ax_.title.set_text('GPU: ' + str(performance_gpu) + ' ex/sec.\\naccuracy: ' + str(round(accuracy_score(df_test['label'], df_test['pred_gpu']), 3)))\n",
        "CM_gpu.ax_.get_images()[0].set_clim(0, 0.95)\n",
        "\n",
        "CM_gpu_onnx.plot(ax=ax5, cmap = \"Blues\", colorbar = False)\n",
        "CM_gpu_onnx.ax_.title.set_text('GPU (ONNX): ' + str(performance_gpu_onnx) + ' ex/sec.\\naccuracy: ' + str(round(accuracy_score(df_test['label'], df_test['pred_gpu_onnx']), 3)))\n",
        "CM_gpu_onnx.ax_.get_images()[0].set_clim(0, 0.95)\n",
        "\n",
        "ax2.axes.get_yaxis().set_visible(False)\n",
        "ax3.axes.get_yaxis().set_visible(False)\n",
        "ax4.axes.get_yaxis().set_visible(False)\n",
        "ax5.axes.get_yaxis().set_visible(False)"
      ]
    },
    {
      "cell_type": "code",
      "execution_count": null,
      "metadata": {
        "colab": {
          "base_uri": "https://localhost:8080/"
        },
        "id": "5t0BTvpdzlpj",
        "outputId": "df6da8da-8652-4bb1-b262-e70295247aa6"
      },
      "outputs": [
        {
          "output_type": "execute_result",
          "data": {
            "text/plain": [
              "                                                         text  label  \\\n",
              "doc_id                                                                 \n",
              "724144332   Living Carbon has engineered a poplar tree tha...      0   \n",
              "990772109   Behind Northwell Health's telehealth program: ...      0   \n",
              "1174412198  Judge rejects Trump's request to delay trial i...      0   \n",
              "335163536   Prime Minister Oli to address nation. KATHMAND...      0   \n",
              "944573462   Do nootropics really work?. <img src=\"https://...      0   \n",
              "370442581   Digitain and Develandoo prototype solutions ba...      0   \n",
              "465473500   Why billionaire climate philanthropists will a...      0   \n",
              "538689805   Proper way of making a Thread Safe data genera...      0   \n",
              "988964230   Atotech Partners with QSolid in the Endeavor t...      0   \n",
              "93163       How to create and distribute an instructional ...      0   \n",
              "881728492   Ultrafast imaging of terahertz electric wavefo...      0   \n",
              "990754763   Budget 2022: Crypto Assets are Being Taxed but...      0   \n",
              "944879424   I-TEAM: Residents say drivers are turning this...      0   \n",
              "1172325366  The Best L-Mount Lenses for 2023. Leica, Panas...      0   \n",
              "1168968396  Clean Energy Technologies Receives Certificati...      1   \n",
              "467858841   Timing Relay Market: Hitting New Heights Betwe...      1   \n",
              "536500021   WISeKey to Establish WISeAI, a Joint Venture w...      1   \n",
              "1171588761  Rat Hunters Use Dogs to Take on DC Rodent Prob...      1   \n",
              "724142202   Mixed reality is the UI of the future - Ventur...      1   \n",
              "1168964212  Bridgestone Develops Tire Using 75% Recycled a...      1   \n",
              "\n",
              "                 source  pred_cpu  score_cpu  pred_cpu_quantized  \\\n",
              "doc_id                                                             \n",
              "724144332   MAPEGY_TEST        -1     -0.690                   0   \n",
              "990772109   MAPEGY_TEST         1      0.610                   0   \n",
              "1174412198  MAPEGY_TEST        -1     -0.425                   0   \n",
              "335163536   MAPEGY_TEST        -1     -0.851                   0   \n",
              "944573462   MAPEGY_TEST         1      0.507                   0   \n",
              "370442581   MAPEGY_TEST         1      0.733                   0   \n",
              "465473500   MAPEGY_TEST        -1     -0.542                   0   \n",
              "538689805   MAPEGY_TEST        -1     -0.668                   0   \n",
              "988964230   MAPEGY_TEST         1      0.601                   0   \n",
              "93163       MAPEGY_TEST         1      0.650                   0   \n",
              "881728492   MAPEGY_TEST         1      0.613                   0   \n",
              "990754763   MAPEGY_TEST        -1     -0.892                   0   \n",
              "944879424   MAPEGY_TEST         0     -0.044                  -1   \n",
              "1172325366  MAPEGY_TEST         1      0.545                   0   \n",
              "1168968396  MAPEGY_TEST         1      0.666                   0   \n",
              "467858841   MAPEGY_TEST         1      0.704                   0   \n",
              "536500021   MAPEGY_TEST         1      0.828                   0   \n",
              "1171588761  MAPEGY_TEST         0     -0.256                  -1   \n",
              "724142202   MAPEGY_TEST        -1     -0.822                   0   \n",
              "1168964212  MAPEGY_TEST         1      0.811                   0   \n",
              "\n",
              "            score_cpu_quantized  pred_cpu_onnx  score_cpu_onnx  pred_gpu_onnx  \\\n",
              "doc_id                                                                          \n",
              "724144332                -0.108             -1          -0.690             -1   \n",
              "990772109                 0.259              1           0.610              1   \n",
              "1174412198               -0.130             -1          -0.425             -1   \n",
              "335163536                -0.230             -1          -0.851             -1   \n",
              "944573462                 0.421              1           0.507              1   \n",
              "370442581                 0.447              1           0.733              1   \n",
              "465473500                -0.324             -1          -0.542             -1   \n",
              "538689805                -0.274             -1          -0.668             -1   \n",
              "988964230                 0.271              1           0.601              1   \n",
              "93163                     0.400              1           0.650              1   \n",
              "881728492                 0.207              1           0.613              1   \n",
              "990754763                -0.226             -1          -0.892             -1   \n",
              "944879424                -0.805              0          -0.044              0   \n",
              "1172325366                0.313              1           0.545              1   \n",
              "1168968396                0.067              1           0.666              1   \n",
              "467858841                 0.040              1           0.704              1   \n",
              "536500021                 0.432              1           0.828              1   \n",
              "1171588761               -0.746              0          -0.256              0   \n",
              "724142202                -0.052             -1          -0.822             -1   \n",
              "1168964212                0.409              1           0.811              1   \n",
              "\n",
              "            score_gpu_onnx  pred_gpu  score_gpu  \n",
              "doc_id                                           \n",
              "724144332           -0.692        -1     -0.692  \n",
              "990772109            0.610         1      0.610  \n",
              "1174412198          -0.425        -1     -0.425  \n",
              "335163536           -0.850        -1     -0.851  \n",
              "944573462            0.510         1      0.509  \n",
              "370442581            0.733         1      0.733  \n",
              "465473500           -0.538        -1     -0.542  \n",
              "538689805           -0.668        -1     -0.668  \n",
              "988964230            0.601         1      0.601  \n",
              "93163                0.650         1      0.649  \n",
              "881728492            0.614         1      0.614  \n",
              "990754763           -0.892        -1     -0.891  \n",
              "944879424           -0.045         0     -0.047  \n",
              "1172325366           0.546         1      0.545  \n",
              "1168968396           0.665         1      0.666  \n",
              "467858841            0.702         1      0.701  \n",
              "536500021            0.827         1      0.827  \n",
              "1171588761          -0.252         0     -0.254  \n",
              "724142202           -0.822        -1     -0.822  \n",
              "1168964212           0.810         1      0.810  "
            ],
            "text/html": [
              "\n",
              "\n",
              "  <div id=\"df-f4c95efb-038a-4b2b-b704-981fec16edf8\">\n",
              "    <div class=\"colab-df-container\">\n",
              "      <div>\n",
              "<style scoped>\n",
              "    .dataframe tbody tr th:only-of-type {\n",
              "        vertical-align: middle;\n",
              "    }\n",
              "\n",
              "    .dataframe tbody tr th {\n",
              "        vertical-align: top;\n",
              "    }\n",
              "\n",
              "    .dataframe thead th {\n",
              "        text-align: right;\n",
              "    }\n",
              "</style>\n",
              "<table border=\"1\" class=\"dataframe\">\n",
              "  <thead>\n",
              "    <tr style=\"text-align: right;\">\n",
              "      <th></th>\n",
              "      <th>text</th>\n",
              "      <th>label</th>\n",
              "      <th>source</th>\n",
              "      <th>pred_cpu</th>\n",
              "      <th>score_cpu</th>\n",
              "      <th>pred_cpu_quantized</th>\n",
              "      <th>score_cpu_quantized</th>\n",
              "      <th>pred_cpu_onnx</th>\n",
              "      <th>score_cpu_onnx</th>\n",
              "      <th>pred_gpu_onnx</th>\n",
              "      <th>score_gpu_onnx</th>\n",
              "      <th>pred_gpu</th>\n",
              "      <th>score_gpu</th>\n",
              "    </tr>\n",
              "    <tr>\n",
              "      <th>doc_id</th>\n",
              "      <th></th>\n",
              "      <th></th>\n",
              "      <th></th>\n",
              "      <th></th>\n",
              "      <th></th>\n",
              "      <th></th>\n",
              "      <th></th>\n",
              "      <th></th>\n",
              "      <th></th>\n",
              "      <th></th>\n",
              "      <th></th>\n",
              "      <th></th>\n",
              "      <th></th>\n",
              "    </tr>\n",
              "  </thead>\n",
              "  <tbody>\n",
              "    <tr>\n",
              "      <th>724144332</th>\n",
              "      <td>Living Carbon has engineered a poplar tree tha...</td>\n",
              "      <td>0</td>\n",
              "      <td>MAPEGY_TEST</td>\n",
              "      <td>-1</td>\n",
              "      <td>-0.690</td>\n",
              "      <td>0</td>\n",
              "      <td>-0.108</td>\n",
              "      <td>-1</td>\n",
              "      <td>-0.690</td>\n",
              "      <td>-1</td>\n",
              "      <td>-0.692</td>\n",
              "      <td>-1</td>\n",
              "      <td>-0.692</td>\n",
              "    </tr>\n",
              "    <tr>\n",
              "      <th>990772109</th>\n",
              "      <td>Behind Northwell Health's telehealth program: ...</td>\n",
              "      <td>0</td>\n",
              "      <td>MAPEGY_TEST</td>\n",
              "      <td>1</td>\n",
              "      <td>0.610</td>\n",
              "      <td>0</td>\n",
              "      <td>0.259</td>\n",
              "      <td>1</td>\n",
              "      <td>0.610</td>\n",
              "      <td>1</td>\n",
              "      <td>0.610</td>\n",
              "      <td>1</td>\n",
              "      <td>0.610</td>\n",
              "    </tr>\n",
              "    <tr>\n",
              "      <th>1174412198</th>\n",
              "      <td>Judge rejects Trump's request to delay trial i...</td>\n",
              "      <td>0</td>\n",
              "      <td>MAPEGY_TEST</td>\n",
              "      <td>-1</td>\n",
              "      <td>-0.425</td>\n",
              "      <td>0</td>\n",
              "      <td>-0.130</td>\n",
              "      <td>-1</td>\n",
              "      <td>-0.425</td>\n",
              "      <td>-1</td>\n",
              "      <td>-0.425</td>\n",
              "      <td>-1</td>\n",
              "      <td>-0.425</td>\n",
              "    </tr>\n",
              "    <tr>\n",
              "      <th>335163536</th>\n",
              "      <td>Prime Minister Oli to address nation. KATHMAND...</td>\n",
              "      <td>0</td>\n",
              "      <td>MAPEGY_TEST</td>\n",
              "      <td>-1</td>\n",
              "      <td>-0.851</td>\n",
              "      <td>0</td>\n",
              "      <td>-0.230</td>\n",
              "      <td>-1</td>\n",
              "      <td>-0.851</td>\n",
              "      <td>-1</td>\n",
              "      <td>-0.850</td>\n",
              "      <td>-1</td>\n",
              "      <td>-0.851</td>\n",
              "    </tr>\n",
              "    <tr>\n",
              "      <th>944573462</th>\n",
              "      <td>Do nootropics really work?. &lt;img src=\"https://...</td>\n",
              "      <td>0</td>\n",
              "      <td>MAPEGY_TEST</td>\n",
              "      <td>1</td>\n",
              "      <td>0.507</td>\n",
              "      <td>0</td>\n",
              "      <td>0.421</td>\n",
              "      <td>1</td>\n",
              "      <td>0.507</td>\n",
              "      <td>1</td>\n",
              "      <td>0.510</td>\n",
              "      <td>1</td>\n",
              "      <td>0.509</td>\n",
              "    </tr>\n",
              "    <tr>\n",
              "      <th>370442581</th>\n",
              "      <td>Digitain and Develandoo prototype solutions ba...</td>\n",
              "      <td>0</td>\n",
              "      <td>MAPEGY_TEST</td>\n",
              "      <td>1</td>\n",
              "      <td>0.733</td>\n",
              "      <td>0</td>\n",
              "      <td>0.447</td>\n",
              "      <td>1</td>\n",
              "      <td>0.733</td>\n",
              "      <td>1</td>\n",
              "      <td>0.733</td>\n",
              "      <td>1</td>\n",
              "      <td>0.733</td>\n",
              "    </tr>\n",
              "    <tr>\n",
              "      <th>465473500</th>\n",
              "      <td>Why billionaire climate philanthropists will a...</td>\n",
              "      <td>0</td>\n",
              "      <td>MAPEGY_TEST</td>\n",
              "      <td>-1</td>\n",
              "      <td>-0.542</td>\n",
              "      <td>0</td>\n",
              "      <td>-0.324</td>\n",
              "      <td>-1</td>\n",
              "      <td>-0.542</td>\n",
              "      <td>-1</td>\n",
              "      <td>-0.538</td>\n",
              "      <td>-1</td>\n",
              "      <td>-0.542</td>\n",
              "    </tr>\n",
              "    <tr>\n",
              "      <th>538689805</th>\n",
              "      <td>Proper way of making a Thread Safe data genera...</td>\n",
              "      <td>0</td>\n",
              "      <td>MAPEGY_TEST</td>\n",
              "      <td>-1</td>\n",
              "      <td>-0.668</td>\n",
              "      <td>0</td>\n",
              "      <td>-0.274</td>\n",
              "      <td>-1</td>\n",
              "      <td>-0.668</td>\n",
              "      <td>-1</td>\n",
              "      <td>-0.668</td>\n",
              "      <td>-1</td>\n",
              "      <td>-0.668</td>\n",
              "    </tr>\n",
              "    <tr>\n",
              "      <th>988964230</th>\n",
              "      <td>Atotech Partners with QSolid in the Endeavor t...</td>\n",
              "      <td>0</td>\n",
              "      <td>MAPEGY_TEST</td>\n",
              "      <td>1</td>\n",
              "      <td>0.601</td>\n",
              "      <td>0</td>\n",
              "      <td>0.271</td>\n",
              "      <td>1</td>\n",
              "      <td>0.601</td>\n",
              "      <td>1</td>\n",
              "      <td>0.601</td>\n",
              "      <td>1</td>\n",
              "      <td>0.601</td>\n",
              "    </tr>\n",
              "    <tr>\n",
              "      <th>93163</th>\n",
              "      <td>How to create and distribute an instructional ...</td>\n",
              "      <td>0</td>\n",
              "      <td>MAPEGY_TEST</td>\n",
              "      <td>1</td>\n",
              "      <td>0.650</td>\n",
              "      <td>0</td>\n",
              "      <td>0.400</td>\n",
              "      <td>1</td>\n",
              "      <td>0.650</td>\n",
              "      <td>1</td>\n",
              "      <td>0.650</td>\n",
              "      <td>1</td>\n",
              "      <td>0.649</td>\n",
              "    </tr>\n",
              "    <tr>\n",
              "      <th>881728492</th>\n",
              "      <td>Ultrafast imaging of terahertz electric wavefo...</td>\n",
              "      <td>0</td>\n",
              "      <td>MAPEGY_TEST</td>\n",
              "      <td>1</td>\n",
              "      <td>0.613</td>\n",
              "      <td>0</td>\n",
              "      <td>0.207</td>\n",
              "      <td>1</td>\n",
              "      <td>0.613</td>\n",
              "      <td>1</td>\n",
              "      <td>0.614</td>\n",
              "      <td>1</td>\n",
              "      <td>0.614</td>\n",
              "    </tr>\n",
              "    <tr>\n",
              "      <th>990754763</th>\n",
              "      <td>Budget 2022: Crypto Assets are Being Taxed but...</td>\n",
              "      <td>0</td>\n",
              "      <td>MAPEGY_TEST</td>\n",
              "      <td>-1</td>\n",
              "      <td>-0.892</td>\n",
              "      <td>0</td>\n",
              "      <td>-0.226</td>\n",
              "      <td>-1</td>\n",
              "      <td>-0.892</td>\n",
              "      <td>-1</td>\n",
              "      <td>-0.892</td>\n",
              "      <td>-1</td>\n",
              "      <td>-0.891</td>\n",
              "    </tr>\n",
              "    <tr>\n",
              "      <th>944879424</th>\n",
              "      <td>I-TEAM: Residents say drivers are turning this...</td>\n",
              "      <td>0</td>\n",
              "      <td>MAPEGY_TEST</td>\n",
              "      <td>0</td>\n",
              "      <td>-0.044</td>\n",
              "      <td>-1</td>\n",
              "      <td>-0.805</td>\n",
              "      <td>0</td>\n",
              "      <td>-0.044</td>\n",
              "      <td>0</td>\n",
              "      <td>-0.045</td>\n",
              "      <td>0</td>\n",
              "      <td>-0.047</td>\n",
              "    </tr>\n",
              "    <tr>\n",
              "      <th>1172325366</th>\n",
              "      <td>The Best L-Mount Lenses for 2023. Leica, Panas...</td>\n",
              "      <td>0</td>\n",
              "      <td>MAPEGY_TEST</td>\n",
              "      <td>1</td>\n",
              "      <td>0.545</td>\n",
              "      <td>0</td>\n",
              "      <td>0.313</td>\n",
              "      <td>1</td>\n",
              "      <td>0.545</td>\n",
              "      <td>1</td>\n",
              "      <td>0.546</td>\n",
              "      <td>1</td>\n",
              "      <td>0.545</td>\n",
              "    </tr>\n",
              "    <tr>\n",
              "      <th>1168968396</th>\n",
              "      <td>Clean Energy Technologies Receives Certificati...</td>\n",
              "      <td>1</td>\n",
              "      <td>MAPEGY_TEST</td>\n",
              "      <td>1</td>\n",
              "      <td>0.666</td>\n",
              "      <td>0</td>\n",
              "      <td>0.067</td>\n",
              "      <td>1</td>\n",
              "      <td>0.666</td>\n",
              "      <td>1</td>\n",
              "      <td>0.665</td>\n",
              "      <td>1</td>\n",
              "      <td>0.666</td>\n",
              "    </tr>\n",
              "    <tr>\n",
              "      <th>467858841</th>\n",
              "      <td>Timing Relay Market: Hitting New Heights Betwe...</td>\n",
              "      <td>1</td>\n",
              "      <td>MAPEGY_TEST</td>\n",
              "      <td>1</td>\n",
              "      <td>0.704</td>\n",
              "      <td>0</td>\n",
              "      <td>0.040</td>\n",
              "      <td>1</td>\n",
              "      <td>0.704</td>\n",
              "      <td>1</td>\n",
              "      <td>0.702</td>\n",
              "      <td>1</td>\n",
              "      <td>0.701</td>\n",
              "    </tr>\n",
              "    <tr>\n",
              "      <th>536500021</th>\n",
              "      <td>WISeKey to Establish WISeAI, a Joint Venture w...</td>\n",
              "      <td>1</td>\n",
              "      <td>MAPEGY_TEST</td>\n",
              "      <td>1</td>\n",
              "      <td>0.828</td>\n",
              "      <td>0</td>\n",
              "      <td>0.432</td>\n",
              "      <td>1</td>\n",
              "      <td>0.828</td>\n",
              "      <td>1</td>\n",
              "      <td>0.827</td>\n",
              "      <td>1</td>\n",
              "      <td>0.827</td>\n",
              "    </tr>\n",
              "    <tr>\n",
              "      <th>1171588761</th>\n",
              "      <td>Rat Hunters Use Dogs to Take on DC Rodent Prob...</td>\n",
              "      <td>1</td>\n",
              "      <td>MAPEGY_TEST</td>\n",
              "      <td>0</td>\n",
              "      <td>-0.256</td>\n",
              "      <td>-1</td>\n",
              "      <td>-0.746</td>\n",
              "      <td>0</td>\n",
              "      <td>-0.256</td>\n",
              "      <td>0</td>\n",
              "      <td>-0.252</td>\n",
              "      <td>0</td>\n",
              "      <td>-0.254</td>\n",
              "    </tr>\n",
              "    <tr>\n",
              "      <th>724142202</th>\n",
              "      <td>Mixed reality is the UI of the future - Ventur...</td>\n",
              "      <td>1</td>\n",
              "      <td>MAPEGY_TEST</td>\n",
              "      <td>-1</td>\n",
              "      <td>-0.822</td>\n",
              "      <td>0</td>\n",
              "      <td>-0.052</td>\n",
              "      <td>-1</td>\n",
              "      <td>-0.822</td>\n",
              "      <td>-1</td>\n",
              "      <td>-0.822</td>\n",
              "      <td>-1</td>\n",
              "      <td>-0.822</td>\n",
              "    </tr>\n",
              "    <tr>\n",
              "      <th>1168964212</th>\n",
              "      <td>Bridgestone Develops Tire Using 75% Recycled a...</td>\n",
              "      <td>1</td>\n",
              "      <td>MAPEGY_TEST</td>\n",
              "      <td>1</td>\n",
              "      <td>0.811</td>\n",
              "      <td>0</td>\n",
              "      <td>0.409</td>\n",
              "      <td>1</td>\n",
              "      <td>0.811</td>\n",
              "      <td>1</td>\n",
              "      <td>0.810</td>\n",
              "      <td>1</td>\n",
              "      <td>0.810</td>\n",
              "    </tr>\n",
              "  </tbody>\n",
              "</table>\n",
              "</div>\n",
              "      <button class=\"colab-df-convert\" onclick=\"convertToInteractive('df-f4c95efb-038a-4b2b-b704-981fec16edf8')\"\n",
              "              title=\"Convert this dataframe to an interactive table.\"\n",
              "              style=\"display:none;\">\n",
              "\n",
              "  <svg xmlns=\"http://www.w3.org/2000/svg\" height=\"24px\"viewBox=\"0 0 24 24\"\n",
              "       width=\"24px\">\n",
              "    <path d=\"M0 0h24v24H0V0z\" fill=\"none\"/>\n",
              "    <path d=\"M18.56 5.44l.94 2.06.94-2.06 2.06-.94-2.06-.94-.94-2.06-.94 2.06-2.06.94zm-11 1L8.5 8.5l.94-2.06 2.06-.94-2.06-.94L8.5 2.5l-.94 2.06-2.06.94zm10 10l.94 2.06.94-2.06 2.06-.94-2.06-.94-.94-2.06-.94 2.06-2.06.94z\"/><path d=\"M17.41 7.96l-1.37-1.37c-.4-.4-.92-.59-1.43-.59-.52 0-1.04.2-1.43.59L10.3 9.45l-7.72 7.72c-.78.78-.78 2.05 0 2.83L4 21.41c.39.39.9.59 1.41.59.51 0 1.02-.2 1.41-.59l7.78-7.78 2.81-2.81c.8-.78.8-2.07 0-2.86zM5.41 20L4 18.59l7.72-7.72 1.47 1.35L5.41 20z\"/>\n",
              "  </svg>\n",
              "      </button>\n",
              "\n",
              "\n",
              "\n",
              "    <div id=\"df-1ddd7be7-0390-4e54-857b-d8030d448819\">\n",
              "      <button class=\"colab-df-quickchart\" onclick=\"quickchart('df-1ddd7be7-0390-4e54-857b-d8030d448819')\"\n",
              "              title=\"Suggest charts.\"\n",
              "              style=\"display:none;\">\n",
              "\n",
              "<svg xmlns=\"http://www.w3.org/2000/svg\" height=\"24px\"viewBox=\"0 0 24 24\"\n",
              "     width=\"24px\">\n",
              "    <g>\n",
              "        <path d=\"M19 3H5c-1.1 0-2 .9-2 2v14c0 1.1.9 2 2 2h14c1.1 0 2-.9 2-2V5c0-1.1-.9-2-2-2zM9 17H7v-7h2v7zm4 0h-2V7h2v10zm4 0h-2v-4h2v4z\"/>\n",
              "    </g>\n",
              "</svg>\n",
              "      </button>\n",
              "    </div>\n",
              "\n",
              "<style>\n",
              "  .colab-df-quickchart {\n",
              "    background-color: #E8F0FE;\n",
              "    border: none;\n",
              "    border-radius: 50%;\n",
              "    cursor: pointer;\n",
              "    display: none;\n",
              "    fill: #1967D2;\n",
              "    height: 32px;\n",
              "    padding: 0 0 0 0;\n",
              "    width: 32px;\n",
              "  }\n",
              "\n",
              "  .colab-df-quickchart:hover {\n",
              "    background-color: #E2EBFA;\n",
              "    box-shadow: 0px 1px 2px rgba(60, 64, 67, 0.3), 0px 1px 3px 1px rgba(60, 64, 67, 0.15);\n",
              "    fill: #174EA6;\n",
              "  }\n",
              "\n",
              "  [theme=dark] .colab-df-quickchart {\n",
              "    background-color: #3B4455;\n",
              "    fill: #D2E3FC;\n",
              "  }\n",
              "\n",
              "  [theme=dark] .colab-df-quickchart:hover {\n",
              "    background-color: #434B5C;\n",
              "    box-shadow: 0px 1px 3px 1px rgba(0, 0, 0, 0.15);\n",
              "    filter: drop-shadow(0px 1px 2px rgba(0, 0, 0, 0.3));\n",
              "    fill: #FFFFFF;\n",
              "  }\n",
              "</style>\n",
              "\n",
              "    <script>\n",
              "      async function quickchart(key) {\n",
              "        const containerElement = document.querySelector('#' + key);\n",
              "        const charts = await google.colab.kernel.invokeFunction(\n",
              "            'suggestCharts', [key], {});\n",
              "      }\n",
              "    </script>\n",
              "\n",
              "      <script>\n",
              "\n",
              "function displayQuickchartButton(domScope) {\n",
              "  let quickchartButtonEl =\n",
              "    domScope.querySelector('#df-1ddd7be7-0390-4e54-857b-d8030d448819 button.colab-df-quickchart');\n",
              "  quickchartButtonEl.style.display =\n",
              "    google.colab.kernel.accessAllowed ? 'block' : 'none';\n",
              "}\n",
              "\n",
              "        displayQuickchartButton(document);\n",
              "      </script>\n",
              "      <style>\n",
              "    .colab-df-container {\n",
              "      display:flex;\n",
              "      flex-wrap:wrap;\n",
              "      gap: 12px;\n",
              "    }\n",
              "\n",
              "    .colab-df-convert {\n",
              "      background-color: #E8F0FE;\n",
              "      border: none;\n",
              "      border-radius: 50%;\n",
              "      cursor: pointer;\n",
              "      display: none;\n",
              "      fill: #1967D2;\n",
              "      height: 32px;\n",
              "      padding: 0 0 0 0;\n",
              "      width: 32px;\n",
              "    }\n",
              "\n",
              "    .colab-df-convert:hover {\n",
              "      background-color: #E2EBFA;\n",
              "      box-shadow: 0px 1px 2px rgba(60, 64, 67, 0.3), 0px 1px 3px 1px rgba(60, 64, 67, 0.15);\n",
              "      fill: #174EA6;\n",
              "    }\n",
              "\n",
              "    [theme=dark] .colab-df-convert {\n",
              "      background-color: #3B4455;\n",
              "      fill: #D2E3FC;\n",
              "    }\n",
              "\n",
              "    [theme=dark] .colab-df-convert:hover {\n",
              "      background-color: #434B5C;\n",
              "      box-shadow: 0px 1px 3px 1px rgba(0, 0, 0, 0.15);\n",
              "      filter: drop-shadow(0px 1px 2px rgba(0, 0, 0, 0.3));\n",
              "      fill: #FFFFFF;\n",
              "    }\n",
              "  </style>\n",
              "\n",
              "      <script>\n",
              "        const buttonEl =\n",
              "          document.querySelector('#df-f4c95efb-038a-4b2b-b704-981fec16edf8 button.colab-df-convert');\n",
              "        buttonEl.style.display =\n",
              "          google.colab.kernel.accessAllowed ? 'block' : 'none';\n",
              "\n",
              "        async function convertToInteractive(key) {\n",
              "          const element = document.querySelector('#df-f4c95efb-038a-4b2b-b704-981fec16edf8');\n",
              "          const dataTable =\n",
              "            await google.colab.kernel.invokeFunction('convertToInteractive',\n",
              "                                                     [key], {});\n",
              "          if (!dataTable) return;\n",
              "\n",
              "          const docLinkHtml = 'Like what you see? Visit the ' +\n",
              "            '<a target=\"_blank\" href=https://colab.research.google.com/notebooks/data_table.ipynb>data table notebook</a>'\n",
              "            + ' to learn more about interactive tables.';\n",
              "          element.innerHTML = '';\n",
              "          dataTable['output_type'] = 'display_data';\n",
              "          await google.colab.output.renderOutput(dataTable, element);\n",
              "          const docLink = document.createElement('div');\n",
              "          docLink.innerHTML = docLinkHtml;\n",
              "          element.appendChild(docLink);\n",
              "        }\n",
              "      </script>\n",
              "    </div>\n",
              "  </div>\n"
            ]
          },
          "metadata": {},
          "execution_count": 20
        }
      ],
      "source": [
        "############################\n",
        "# extract some examples\n",
        "# idx = [\"944580298\", \"467867701\", \"467857841\", \"1168933735\", \"470933774\", \"1168961164\", \"537896110\", \"944858719\", \"530305683\"]\n",
        "\n",
        "############################\n",
        "# ... where results differ\n",
        "idx = []\n",
        "for index, s in df_test.iterrows():\n",
        "  if s[\"pred_cpu_onnx\"] != s[\"pred_cpu_quantized\"]:\n",
        "    idx.append(index)\n",
        "\n",
        "df_test.loc[idx]"
      ]
    },
    {
      "cell_type": "markdown",
      "metadata": {
        "id": "we5ZPoRFactt"
      },
      "source": [
        "# Compare average performance"
      ]
    },
    {
      "cell_type": "code",
      "execution_count": null,
      "metadata": {
        "id": "wR2wCepiakw9"
      },
      "outputs": [],
      "source": [
        "# do about 30 runs of inference for each of the following:\n",
        "## CPU, nonquantized\n",
        "## GPU, nonquantized\n",
        "## CPU, quantized (ONNX)\n",
        "\n",
        "# across those 20 runs compute\n",
        "## arithmetic mean and\n",
        "## standard deviation\n",
        "# of:\n",
        "## runtime\n",
        "## performance\n",
        "## accuracy (<- I expect that to be the same every time but just to make sure)\n",
        "\n",
        "## *optional:* plot histograms of runtimes\n",
        "\n",
      ]
    },
    {
      "cell_type": "code",
      "execution_count": null,
      "metadata": {
        "id": "fGQORvvnzfna"
      },
      "outputs": [],
      "source": [
        "# Initialize lists to store results\n",
        "runtimes_cpu = []\n",
        "performances_cpu = []\n",
        "accuracies_cpu = []\n",
        "\n",
        "runtimes_gpu = []\n",
        "performances_gpu = []\n",
        "accuracies_gpu = []\n",
        "\n",
        "runtimes_cpu_quantized = []\n",
        "performances_cpu_quantized = []\n",
        "accuracies_cpu_quantized = []\n",
        "\n",
        "num_runs = 30"
      ]
    },
    {
      "cell_type": "markdown",
      "metadata": {
        "id": "muNuoptEzouy"
      },
      "source": [
        "# Loop to run inference multiple times"
      ]
    },
    {
      "cell_type": "code",
      "execution_count": null,
      "metadata": {
        "colab": {
          "base_uri": "https://localhost:8080/"
        },
        "id": "D4heAdG2zsb9",
        "outputId": "8cd75e81-d35b-4fdb-ad23-7a1ff343f1ba"
      },
      "outputs": [
        {
          "output_type": "stream",
          "name": "stderr",
          "text": [
            "\r  0%|          | 0/30 [00:00<?, ?it/s]"
          ]
        },
        {
          "output_type": "stream",
          "name": "stdout",
          "text": [
            "10/10 [==============================] - 1s 70ms/step\n",
            "10/10 [==============================] - 31s 3s/step\n"
          ]
        },
        {
          "output_type": "stream",
          "name": "stderr",
          "text": [
            "\r  3%|▎         | 1/30 [01:03<30:28, 63.05s/it]"
          ]
        },
        {
          "output_type": "stream",
          "name": "stdout",
          "text": [
            "10/10 [==============================] - 1s 72ms/step\n",
            "10/10 [==============================] - 32s 3s/step\n"
          ]
        },
        {
          "output_type": "stream",
          "name": "stderr",
          "text": [
            "\r  7%|▋         | 2/30 [02:05<29:18, 62.82s/it]"
          ]
        },
        {
          "output_type": "stream",
          "name": "stdout",
          "text": [
            "10/10 [==============================] - 1s 71ms/step\n",
            "10/10 [==============================] - 31s 3s/step\n"
          ]
        },
        {
          "output_type": "stream",
          "name": "stderr",
          "text": [
            "\r 10%|█         | 3/30 [03:08<28:14, 62.76s/it]"
          ]
        },
        {
          "output_type": "stream",
          "name": "stdout",
          "text": [
            "10/10 [==============================] - 1s 72ms/step\n",
            "10/10 [==============================] - 32s 3s/step\n"
          ]
        },
        {
          "output_type": "stream",
          "name": "stderr",
          "text": [
            "\r 13%|█▎        | 4/30 [04:17<28:21, 65.45s/it]"
          ]
        },
        {
          "output_type": "stream",
          "name": "stdout",
          "text": [
            "10/10 [==============================] - 1s 71ms/step\n",
            "10/10 [==============================] - 31s 3s/step\n"
          ]
        },
        {
          "output_type": "stream",
          "name": "stderr",
          "text": [
            "\r 17%|█▋        | 5/30 [05:20<26:48, 64.36s/it]"
          ]
        },
        {
          "output_type": "stream",
          "name": "stdout",
          "text": [
            "10/10 [==============================] - 1s 73ms/step\n",
            "10/10 [==============================] - 31s 3s/step\n"
          ]
        },
        {
          "output_type": "stream",
          "name": "stderr",
          "text": [
            "\r 20%|██        | 6/30 [06:22<25:28, 63.69s/it]"
          ]
        },
        {
          "output_type": "stream",
          "name": "stdout",
          "text": [
            "10/10 [==============================] - 1s 71ms/step\n",
            "10/10 [==============================] - 31s 3s/step\n"
          ]
        },
        {
          "output_type": "stream",
          "name": "stderr",
          "text": [
            "\r 23%|██▎       | 7/30 [07:32<25:06, 65.51s/it]"
          ]
        },
        {
          "output_type": "stream",
          "name": "stdout",
          "text": [
            "10/10 [==============================] - 1s 74ms/step\n",
            "10/10 [==============================] - 31s 3s/step\n"
          ]
        },
        {
          "output_type": "stream",
          "name": "stderr",
          "text": [
            "\r 27%|██▋       | 8/30 [08:38<24:08, 65.82s/it]"
          ]
        },
        {
          "output_type": "stream",
          "name": "stdout",
          "text": [
            "10/10 [==============================] - 1s 72ms/step\n",
            "10/10 [==============================] - 32s 3s/step\n"
          ]
        },
        {
          "output_type": "stream",
          "name": "stderr",
          "text": [
            "\r 30%|███       | 9/30 [09:47<23:25, 66.95s/it]"
          ]
        },
        {
          "output_type": "stream",
          "name": "stdout",
          "text": [
            "10/10 [==============================] - 1s 71ms/step\n",
            "10/10 [==============================] - 31s 3s/step\n"
          ]
        },
        {
          "output_type": "stream",
          "name": "stderr",
          "text": [
            "\r 33%|███▎      | 10/30 [10:50<21:49, 65.50s/it]"
          ]
        },
        {
          "output_type": "stream",
          "name": "stdout",
          "text": [
            "10/10 [==============================] - 1s 71ms/step\n",
            "10/10 [==============================] - 32s 3s/step\n"
          ]
        },
        {
          "output_type": "stream",
          "name": "stderr",
          "text": [
            "\r 37%|███▋      | 11/30 [11:59<21:08, 66.77s/it]"
          ]
        },
        {
          "output_type": "stream",
          "name": "stdout",
          "text": [
            "10/10 [==============================] - 1s 71ms/step\n",
            "10/10 [==============================] - 31s 3s/step\n"
          ]
        },
        {
          "output_type": "stream",
          "name": "stderr",
          "text": [
            "\r 40%|████      | 12/30 [13:03<19:47, 65.96s/it]"
          ]
        },
        {
          "output_type": "stream",
          "name": "stdout",
          "text": [
            "10/10 [==============================] - 1s 72ms/step\n",
            "10/10 [==============================] - 32s 3s/step\n"
          ]
        },
        {
          "output_type": "stream",
          "name": "stderr",
          "text": [
            "\r 43%|████▎     | 13/30 [14:13<18:57, 66.92s/it]"
          ]
        },
        {
          "output_type": "stream",
          "name": "stdout",
          "text": [
            "10/10 [==============================] - 1s 72ms/step\n",
            "10/10 [==============================] - 31s 3s/step\n"
          ]
        },
        {
          "output_type": "stream",
          "name": "stderr",
          "text": [
            "\r 47%|████▋     | 14/30 [15:16<17:32, 65.81s/it]"
          ]
        },
        {
          "output_type": "stream",
          "name": "stdout",
          "text": [
            "10/10 [==============================] - 1s 73ms/step\n",
            "10/10 [==============================] - 31s 3s/step\n"
          ]
        },
        {
          "output_type": "stream",
          "name": "stderr",
          "text": [
            "\r 50%|█████     | 15/30 [16:18<16:12, 64.82s/it]"
          ]
        },
        {
          "output_type": "stream",
          "name": "stdout",
          "text": [
            "10/10 [==============================] - 1s 70ms/step\n",
            "10/10 [==============================] - 31s 3s/step\n"
          ]
        },
        {
          "output_type": "stream",
          "name": "stderr",
          "text": [
            "\r 53%|█████▎    | 16/30 [17:28<15:25, 66.12s/it]"
          ]
        },
        {
          "output_type": "stream",
          "name": "stdout",
          "text": [
            "10/10 [==============================] - 1s 74ms/step\n",
            "10/10 [==============================] - 31s 3s/step\n"
          ]
        },
        {
          "output_type": "stream",
          "name": "stderr",
          "text": [
            "\r 57%|█████▋    | 17/30 [18:30<14:05, 65.01s/it]"
          ]
        },
        {
          "output_type": "stream",
          "name": "stdout",
          "text": [
            "10/10 [==============================] - 1s 72ms/step\n",
            "10/10 [==============================] - 32s 3s/step\n"
          ]
        },
        {
          "output_type": "stream",
          "name": "stderr",
          "text": [
            "\r 60%|██████    | 18/30 [19:33<12:52, 64.36s/it]"
          ]
        },
        {
          "output_type": "stream",
          "name": "stdout",
          "text": [
            "10/10 [==============================] - 1s 71ms/step\n",
            "10/10 [==============================] - 31s 3s/step\n"
          ]
        },
        {
          "output_type": "stream",
          "name": "stderr",
          "text": [
            "\r 63%|██████▎   | 19/30 [20:35<11:41, 63.73s/it]"
          ]
        },
        {
          "output_type": "stream",
          "name": "stdout",
          "text": [
            "10/10 [==============================] - 1s 71ms/step\n",
            "10/10 [==============================] - 32s 3s/step\n"
          ]
        },
        {
          "output_type": "stream",
          "name": "stderr",
          "text": [
            "\r 67%|██████▋   | 20/30 [21:38<10:33, 63.38s/it]"
          ]
        },
        {
          "output_type": "stream",
          "name": "stdout",
          "text": [
            "10/10 [==============================] - 1s 71ms/step\n",
            "10/10 [==============================] - 32s 3s/step\n"
          ]
        },
        {
          "output_type": "stream",
          "name": "stderr",
          "text": [
            "\r 70%|███████   | 21/30 [22:42<09:34, 63.79s/it]"
          ]
        },
        {
          "output_type": "stream",
          "name": "stdout",
          "text": [
            "10/10 [==============================] - 1s 71ms/step\n",
            "10/10 [==============================] - 31s 3s/step\n"
          ]
        },
        {
          "output_type": "stream",
          "name": "stderr",
          "text": [
            "\r 73%|███████▎  | 22/30 [23:45<08:27, 63.42s/it]"
          ]
        },
        {
          "output_type": "stream",
          "name": "stdout",
          "text": [
            "10/10 [==============================] - 1s 71ms/step\n",
            "10/10 [==============================] - 32s 3s/step\n"
          ]
        },
        {
          "output_type": "stream",
          "name": "stderr",
          "text": [
            "\r 77%|███████▋  | 23/30 [24:47<07:21, 63.13s/it]"
          ]
        },
        {
          "output_type": "stream",
          "name": "stdout",
          "text": [
            "10/10 [==============================] - 1s 70ms/step\n",
            "10/10 [==============================] - 32s 3s/step\n"
          ]
        },
        {
          "output_type": "stream",
          "name": "stderr",
          "text": [
            "\r 80%|████████  | 24/30 [25:51<06:19, 63.31s/it]"
          ]
        },
        {
          "output_type": "stream",
          "name": "stdout",
          "text": [
            "10/10 [==============================] - 1s 71ms/step\n",
            "10/10 [==============================] - 31s 3s/step\n"
          ]
        },
        {
          "output_type": "stream",
          "name": "stderr",
          "text": [
            "\r 83%|████████▎ | 25/30 [26:54<05:15, 63.14s/it]"
          ]
        },
        {
          "output_type": "stream",
          "name": "stdout",
          "text": [
            "10/10 [==============================] - 1s 73ms/step\n",
            "10/10 [==============================] - 31s 3s/step\n"
          ]
        },
        {
          "output_type": "stream",
          "name": "stderr",
          "text": [
            "\r 87%|████████▋ | 26/30 [27:58<04:13, 63.34s/it]"
          ]
        },
        {
          "output_type": "stream",
          "name": "stdout",
          "text": [
            "10/10 [==============================] - 1s 71ms/step\n",
            "10/10 [==============================] - 32s 3s/step\n"
          ]
        },
        {
          "output_type": "stream",
          "name": "stderr",
          "text": [
            "\r 90%|█████████ | 27/30 [29:07<03:15, 65.14s/it]"
          ]
        },
        {
          "output_type": "stream",
          "name": "stdout",
          "text": [
            "10/10 [==============================] - 1s 73ms/step\n",
            "10/10 [==============================] - 32s 3s/step\n"
          ]
        },
        {
          "output_type": "stream",
          "name": "stderr",
          "text": [
            "\r 93%|█████████▎| 28/30 [30:17<02:13, 66.61s/it]"
          ]
        },
        {
          "output_type": "stream",
          "name": "stdout",
          "text": [
            "10/10 [==============================] - 1s 72ms/step\n",
            "10/10 [==============================] - 31s 3s/step\n"
          ]
        },
        {
          "output_type": "stream",
          "name": "stderr",
          "text": [
            "\r 97%|█████████▋| 29/30 [31:19<01:05, 65.34s/it]"
          ]
        },
        {
          "output_type": "stream",
          "name": "stdout",
          "text": [
            "10/10 [==============================] - 1s 72ms/step\n",
            "10/10 [==============================] - 32s 3s/step\n"
          ]
        },
        {
          "output_type": "stream",
          "name": "stderr",
          "text": [
            "100%|██████████| 30/30 [32:29<00:00, 64.99s/it]\n"
          ]
        }
      ],
      "source": [
        "for _ in tqdm(range(num_runs)):\n",
        "    gc.collect()\n",
        "    # non-quantized, GPU\n",
        "    # (used Colab runtime \"A100 GPU\")\n",
        "    labels_gpu, _, runtime_gpu, performance_gpu = infer(model, X_test, use_gpu=True)\n",
        "    accuracy_gpu = accuracy_score(df_test['label'], labels_gpu)\n",
        "    runtimes_gpu.append(runtime_gpu)\n",
        "    performances_gpu.append(performance_gpu)\n",
        "    accuracies_gpu.append(accuracy_gpu)\n",
        "\n",
        "    gc.collect()\n",
        "    # quantized, CPU, ONNX\n",
        "    labels_cpu_quantized, _, runtime_cpu_quantized, performance_cpu_quantized = infer(quantized_model, X_test_onnx, use_gpu=False)\n",
        "    accuracy_cpu_quantized = accuracy_score(df_test['label'], labels_cpu_quantized)\n",
        "    runtimes_cpu_quantized.append(runtime_cpu_quantized)\n",
        "    performances_cpu_quantized.append(performance_cpu_quantized)\n",
        "    accuracies_cpu_quantized.append(accuracy_cpu_quantized)\n",
        "\n",
        "    gc.collect()\n",
        "    # non-quantized, CPU\n",
        "    labels_cpu, _, runtime_cpu, performance_cpu = infer(model, X_test, use_gpu=False)\n",
        "    accuracy_cpu = accuracy_score(df_test['label'], labels_cpu)\n",
        "    runtimes_cpu.append(runtime_cpu)\n",
        "    performances_cpu.append(performance_cpu)\n",
        "    accuracies_cpu.append(accuracy_cpu)"
      ]
    },
    {
      "cell_type": "markdown",
      "metadata": {
        "id": "wNI7GD6w1i12"
      },
      "source": [
        "# Compute the arithmetic mean and standard deviation"
      ]
    },
    {
      "cell_type": "code",
      "execution_count": null,
      "metadata": {
        "id": "0UGVv3Rw1lNH"
      },
      "outputs": [],
      "source": [
        "mean_runtime_cpu = np.mean(runtimes_cpu)\n",
        "std_runtime_cpu = np.std(runtimes_cpu)\n",
        "\n",
        "mean_performance_cpu = np.mean(performances_cpu)\n",
        "std_performance_cpu = np.std(performances_cpu)\n",
        "\n",
        "mean_accuracy_cpu = np.mean(accuracies_cpu)\n",
        "std_accuracy_cpu = np.std(accuracies_cpu)\n",
        "\n",
        "mean_runtime_gpu = np.mean(runtimes_gpu)\n",
        "std_runtime_gpu = np.std(runtimes_gpu)\n",
        "\n",
        "mean_performance_gpu = np.mean(performances_gpu)\n",
        "std_performance_gpu = np.std(performances_gpu)\n",
        "\n",
        "mean_accuracy_gpu = np.mean(accuracies_gpu)\n",
        "std_accuracy_gpu = np.std(accuracies_gpu)\n",
        "\n",
        "mean_runtime_cpu_quantized = np.mean(runtimes_cpu_quantized)\n",
        "std_runtime_cpu_quantized = np.std(runtimes_cpu_quantized)\n",
        "\n",
        "mean_performance_cpu_quantized = np.mean(performances_cpu_quantized)\n",
        "std_performance_cpu_quantized = np.std(performances_cpu_quantized)\n",
        "\n",
        "mean_accuracy_cpu_quantized = np.mean(accuracies_cpu_quantized)\n",
        "std_accuracy_cpu_quantized = np.std(accuracies_cpu_quantized)"
      ]
    },
    {
      "cell_type": "code",
      "execution_count": null,
      "metadata": {
        "id": "WmveIMh21yYV",
        "colab": {
          "base_uri": "https://localhost:8080/",
          "height": 637
        },
        "outputId": "a7c2b51d-5864-4da1-eeff-5ed740a1217b"
      },
      "outputs": [
        {
          "output_type": "stream",
          "name": "stdout",
          "text": [
            "Non-quantized, CPU: Mean runtime = 31.53666666666667 secs, Std Dev = 0.22831722570922142 secs\n",
            "Non-quantized, CPU: Mean performance = 9.509999999999998 ex/sec, Std Dev = 0.07895146188217979 ex/sec\n",
            "Non-quantized, CPU: Mean accuracy = 0.7800000000000001 , Std Dev = 1.1102230246251565e-16\n",
            "Non-quantized, GPU: Mean runtime = 0.8331000000000002 secs, Std Dev = 0.012215700280104021 secs\n",
            "Non-quantized, GPU: Mean performance = 360.18000000000006 ex/sec, Std Dev = 5.249787297278498 ex/sec\n",
            "Non-quantized, GPU: Mean accuracy = 0.7800000000000001 , Std Dev = 1.1102230246251565e-16\n",
            "Quantized, CPU (ONNX): Mean runtime = 31.296366666666668 secs, Std Dev = 2.9622253963682255 secs\n",
            "Quantized, CPU (ONNX): Mean performance = 9.666666666666664 ex/sec, Std Dev = 0.8669230390037833 ex/sec\n",
            "Quantized, CPU (ONNX): Mean accuracy = 0.8066666666666663 , Std Dev = 3.3306690738754696e-16\n"
          ]
        },
        {
          "output_type": "display_data",
          "data": {
            "text/plain": [
              "<Figure size 640x480 with 1 Axes>"
            ],
            "image/png": "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\n"
          },
          "metadata": {}
        }
      ],
      "source": [
        "# Print the results\n",
        "print(\"Non-quantized, CPU: Mean runtime =\", mean_runtime_cpu, \"secs, Std Dev =\", std_runtime_cpu, \"secs\")\n",
        "print(\"Non-quantized, CPU: Mean performance =\", mean_performance_cpu, \"ex/sec, Std Dev =\", std_performance_cpu, \"ex/sec\")\n",
        "print(\"Non-quantized, CPU: Mean accuracy =\", mean_accuracy_cpu, \", Std Dev =\", std_accuracy_cpu)\n",
        "\n",
        "print(\"Non-quantized, GPU: Mean runtime =\", mean_runtime_gpu, \"secs, Std Dev =\", std_runtime_gpu, \"secs\")\n",
        "print(\"Non-quantized, GPU: Mean performance =\", mean_performance_gpu, \"ex/sec, Std Dev =\", std_performance_gpu, \"ex/sec\")\n",
        "print(\"Non-quantized, GPU: Mean accuracy =\", mean_accuracy_gpu, \", Std Dev =\", std_accuracy_gpu)\n",
        "\n",
        "print(\"Quantized, CPU (ONNX): Mean runtime =\", mean_runtime_cpu_quantized, \"secs, Std Dev =\", std_runtime_cpu_quantized, \"secs\")\n",
        "print(\"Quantized, CPU (ONNX): Mean performance =\", mean_performance_cpu_quantized, \"ex/sec, Std Dev =\", std_performance_cpu_quantized, \"ex/sec\")\n",
        "print(\"Quantized, CPU (ONNX): Mean accuracy =\", mean_accuracy_cpu_quantized, \", Std Dev =\", std_accuracy_cpu_quantized)\n",
        "\n",
        "# Plot histograms of runtimes\n",
        "plt.figure()\n",
        "plt.hist(runtimes_cpu, bins=10, alpha=0.5, label=\"CPU\")\n",
        "plt.hist(runtimes_gpu, bins=10, alpha=0.5, label=\"GPU\")\n",
        "plt.hist(runtimes_cpu_quantized, bins=10, alpha=0.5, label=\"CPU (ONNX, Quantized)\")\n",
        "plt.xlabel(\"Runtime (seconds)\")\n",
        "plt.ylabel(\"Frequency\")\n",
        "plt.title(\"Histogram of Inference Runtimes\")\n",
        "plt.legend()\n",
        "plt.show()"
      ]
    },
    {
      "cell_type": "code",
      "execution_count": null,
      "metadata": {
        "id": "PEKueLdJDFBz",
        "colab": {
          "base_uri": "https://localhost:8080/"
        },
        "outputId": "debe14d3-0e33-4345-8b73-989b8db57234"
      },
      "outputs": [
        {
          "output_type": "stream",
          "name": "stdout",
          "text": [
            "Non-quantized, CPU: Median performance = 9.5 ex/sec\n",
            "Non-quantized, GPU: Median performance = 361.65 ex/sec\n",
            "Quantized, CPU (ONNX): Median performance = 10.149999999999999 ex/sec\n"
          ]
        }
      ],
      "source": [
        "# robust statistics\n",
        "median_performance_cpu = np.median(performances_cpu)\n",
        "median_performance_gpu = np.median(performances_gpu)\n",
        "median_performance_cpu_quantized = np.median(performances_cpu_quantized)\n",
        "\n",
        "print(\"Non-quantized, CPU: Median performance =\", median_performance_cpu, \"ex/sec\")\n",
        "print(\"Non-quantized, GPU: Median performance =\", median_performance_gpu, \"ex/sec\")\n",
        "print(\"Quantized, CPU (ONNX): Median performance =\", median_performance_cpu_quantized, \"ex/sec\")"
      ]
    }
  ],
  "metadata": {
    "accelerator": "GPU",
    "colab": {
      "collapsed_sections": [
        "wAXCVwkXof3U",
        "onb10nr9m8O3",
        "EqbT5Hw622uj",
        "aszVhzsRe5SW",
        "CLHK2W8CAtTi",
        "4xSeitQLBV5f",
        "3S4zsRhl77t5",
        "Nno-v5Fd7lSJ",
        "Xv1hV9ztl5Mw",
        "we5ZPoRFactt"
      ],
      "machine_shape": "hm",
      "provenance": [],
      "gpuType": "T4"
    },
    "kernelspec": {
      "display_name": "Python 3",
      "name": "python3"
    },
    "language_info": {
      "name": "python"
    },
    "widgets": {
      "application/vnd.jupyter.widget-state+json": {
        "fec6e3ff56d345978f257c5347d26ffe": {
          "model_module": "@jupyter-widgets/controls",
          "model_name": "HBoxModel",
          "model_module_version": "1.5.0",
          "state": {
            "_dom_classes": [],
            "_model_module": "@jupyter-widgets/controls",
            "_model_module_version": "1.5.0",
            "_model_name": "HBoxModel",
            "_view_count": null,
            "_view_module": "@jupyter-widgets/controls",
            "_view_module_version": "1.5.0",
            "_view_name": "HBoxView",
            "box_style": "",
            "children": [
              "IPY_MODEL_7f13bc5a270642678769b5990939f2d5",
              "IPY_MODEL_5c24e19c32b64ea5b360231b4545b172",
              "IPY_MODEL_47dfdf4a31e0470fb820498a9d8b6f8b"
            ],
            "layout": "IPY_MODEL_41979b61d7c54a76bd7965d3747e7f3c"
          }
        },
        "7f13bc5a270642678769b5990939f2d5": {
          "model_module": "@jupyter-widgets/controls",
          "model_name": "HTMLModel",
          "model_module_version": "1.5.0",
          "state": {
            "_dom_classes": [],
            "_model_module": "@jupyter-widgets/controls",
            "_model_module_version": "1.5.0",
            "_model_name": "HTMLModel",
            "_view_count": null,
            "_view_module": "@jupyter-widgets/controls",
            "_view_module_version": "1.5.0",
            "_view_name": "HTMLView",
            "description": "",
            "description_tooltip": null,
            "layout": "IPY_MODEL_3eba98e756314a579a429879759b33aa",
            "placeholder": "​",
            "style": "IPY_MODEL_20f9b593ed1448d9900747f1db6c605f",
            "value": "Downloading (…)lve/main/config.json: 100%"
          }
        },
        "5c24e19c32b64ea5b360231b4545b172": {
          "model_module": "@jupyter-widgets/controls",
          "model_name": "FloatProgressModel",
          "model_module_version": "1.5.0",
          "state": {
            "_dom_classes": [],
            "_model_module": "@jupyter-widgets/controls",
            "_model_module_version": "1.5.0",
            "_model_name": "FloatProgressModel",
            "_view_count": null,
            "_view_module": "@jupyter-widgets/controls",
            "_view_module_version": "1.5.0",
            "_view_name": "ProgressView",
            "bar_style": "success",
            "description": "",
            "description_tooltip": null,
            "layout": "IPY_MODEL_aec7c05199904bc685ecbcf94cd706ac",
            "max": 480,
            "min": 0,
            "orientation": "horizontal",
            "style": "IPY_MODEL_75c0877b6f5d4d3d876e7c763c0952db",
            "value": 480
          }
        },
        "47dfdf4a31e0470fb820498a9d8b6f8b": {
          "model_module": "@jupyter-widgets/controls",
          "model_name": "HTMLModel",
          "model_module_version": "1.5.0",
          "state": {
            "_dom_classes": [],
            "_model_module": "@jupyter-widgets/controls",
            "_model_module_version": "1.5.0",
            "_model_name": "HTMLModel",
            "_view_count": null,
            "_view_module": "@jupyter-widgets/controls",
            "_view_module_version": "1.5.0",
            "_view_name": "HTMLView",
            "description": "",
            "description_tooltip": null,
            "layout": "IPY_MODEL_be9fabd64b0644a09a784c37ff20de21",
            "placeholder": "​",
            "style": "IPY_MODEL_fc162ccb7384458f93439e31c9031739",
            "value": " 480/480 [00:00&lt;00:00, 32.5kB/s]"
          }
        },
        "41979b61d7c54a76bd7965d3747e7f3c": {
          "model_module": "@jupyter-widgets/base",
          "model_name": "LayoutModel",
          "model_module_version": "1.2.0",
          "state": {
            "_model_module": "@jupyter-widgets/base",
            "_model_module_version": "1.2.0",
            "_model_name": "LayoutModel",
            "_view_count": null,
            "_view_module": "@jupyter-widgets/base",
            "_view_module_version": "1.2.0",
            "_view_name": "LayoutView",
            "align_content": null,
            "align_items": null,
            "align_self": null,
            "border": null,
            "bottom": null,
            "display": null,
            "flex": null,
            "flex_flow": null,
            "grid_area": null,
            "grid_auto_columns": null,
            "grid_auto_flow": null,
            "grid_auto_rows": null,
            "grid_column": null,
            "grid_gap": null,
            "grid_row": null,
            "grid_template_areas": null,
            "grid_template_columns": null,
            "grid_template_rows": null,
            "height": null,
            "justify_content": null,
            "justify_items": null,
            "left": null,
            "margin": null,
            "max_height": null,
            "max_width": null,
            "min_height": null,
            "min_width": null,
            "object_fit": null,
            "object_position": null,
            "order": null,
            "overflow": null,
            "overflow_x": null,
            "overflow_y": null,
            "padding": null,
            "right": null,
            "top": null,
            "visibility": null,
            "width": null
          }
        },
        "3eba98e756314a579a429879759b33aa": {
          "model_module": "@jupyter-widgets/base",
          "model_name": "LayoutModel",
          "model_module_version": "1.2.0",
          "state": {
            "_model_module": "@jupyter-widgets/base",
            "_model_module_version": "1.2.0",
            "_model_name": "LayoutModel",
            "_view_count": null,
            "_view_module": "@jupyter-widgets/base",
            "_view_module_version": "1.2.0",
            "_view_name": "LayoutView",
            "align_content": null,
            "align_items": null,
            "align_self": null,
            "border": null,
            "bottom": null,
            "display": null,
            "flex": null,
            "flex_flow": null,
            "grid_area": null,
            "grid_auto_columns": null,
            "grid_auto_flow": null,
            "grid_auto_rows": null,
            "grid_column": null,
            "grid_gap": null,
            "grid_row": null,
            "grid_template_areas": null,
            "grid_template_columns": null,
            "grid_template_rows": null,
            "height": null,
            "justify_content": null,
            "justify_items": null,
            "left": null,
            "margin": null,
            "max_height": null,
            "max_width": null,
            "min_height": null,
            "min_width": null,
            "object_fit": null,
            "object_position": null,
            "order": null,
            "overflow": null,
            "overflow_x": null,
            "overflow_y": null,
            "padding": null,
            "right": null,
            "top": null,
            "visibility": null,
            "width": null
          }
        },
        "20f9b593ed1448d9900747f1db6c605f": {
          "model_module": "@jupyter-widgets/controls",
          "model_name": "DescriptionStyleModel",
          "model_module_version": "1.5.0",
          "state": {
            "_model_module": "@jupyter-widgets/controls",
            "_model_module_version": "1.5.0",
            "_model_name": "DescriptionStyleModel",
            "_view_count": null,
            "_view_module": "@jupyter-widgets/base",
            "_view_module_version": "1.2.0",
            "_view_name": "StyleView",
            "description_width": ""
          }
        },
        "aec7c05199904bc685ecbcf94cd706ac": {
          "model_module": "@jupyter-widgets/base",
          "model_name": "LayoutModel",
          "model_module_version": "1.2.0",
          "state": {
            "_model_module": "@jupyter-widgets/base",
            "_model_module_version": "1.2.0",
            "_model_name": "LayoutModel",
            "_view_count": null,
            "_view_module": "@jupyter-widgets/base",
            "_view_module_version": "1.2.0",
            "_view_name": "LayoutView",
            "align_content": null,
            "align_items": null,
            "align_self": null,
            "border": null,
            "bottom": null,
            "display": null,
            "flex": null,
            "flex_flow": null,
            "grid_area": null,
            "grid_auto_columns": null,
            "grid_auto_flow": null,
            "grid_auto_rows": null,
            "grid_column": null,
            "grid_gap": null,
            "grid_row": null,
            "grid_template_areas": null,
            "grid_template_columns": null,
            "grid_template_rows": null,
            "height": null,
            "justify_content": null,
            "justify_items": null,
            "left": null,
            "margin": null,
            "max_height": null,
            "max_width": null,
            "min_height": null,
            "min_width": null,
            "object_fit": null,
            "object_position": null,
            "order": null,
            "overflow": null,
            "overflow_x": null,
            "overflow_y": null,
            "padding": null,
            "right": null,
            "top": null,
            "visibility": null,
            "width": null
          }
        },
        "75c0877b6f5d4d3d876e7c763c0952db": {
          "model_module": "@jupyter-widgets/controls",
          "model_name": "ProgressStyleModel",
          "model_module_version": "1.5.0",
          "state": {
            "_model_module": "@jupyter-widgets/controls",
            "_model_module_version": "1.5.0",
            "_model_name": "ProgressStyleModel",
            "_view_count": null,
            "_view_module": "@jupyter-widgets/base",
            "_view_module_version": "1.2.0",
            "_view_name": "StyleView",
            "bar_color": null,
            "description_width": ""
          }
        },
        "be9fabd64b0644a09a784c37ff20de21": {
          "model_module": "@jupyter-widgets/base",
          "model_name": "LayoutModel",
          "model_module_version": "1.2.0",
          "state": {
            "_model_module": "@jupyter-widgets/base",
            "_model_module_version": "1.2.0",
            "_model_name": "LayoutModel",
            "_view_count": null,
            "_view_module": "@jupyter-widgets/base",
            "_view_module_version": "1.2.0",
            "_view_name": "LayoutView",
            "align_content": null,
            "align_items": null,
            "align_self": null,
            "border": null,
            "bottom": null,
            "display": null,
            "flex": null,
            "flex_flow": null,
            "grid_area": null,
            "grid_auto_columns": null,
            "grid_auto_flow": null,
            "grid_auto_rows": null,
            "grid_column": null,
            "grid_gap": null,
            "grid_row": null,
            "grid_template_areas": null,
            "grid_template_columns": null,
            "grid_template_rows": null,
            "height": null,
            "justify_content": null,
            "justify_items": null,
            "left": null,
            "margin": null,
            "max_height": null,
            "max_width": null,
            "min_height": null,
            "min_width": null,
            "object_fit": null,
            "object_position": null,
            "order": null,
            "overflow": null,
            "overflow_x": null,
            "overflow_y": null,
            "padding": null,
            "right": null,
            "top": null,
            "visibility": null,
            "width": null
          }
        },
        "fc162ccb7384458f93439e31c9031739": {
          "model_module": "@jupyter-widgets/controls",
          "model_name": "DescriptionStyleModel",
          "model_module_version": "1.5.0",
          "state": {
            "_model_module": "@jupyter-widgets/controls",
            "_model_module_version": "1.5.0",
            "_model_name": "DescriptionStyleModel",
            "_view_count": null,
            "_view_module": "@jupyter-widgets/base",
            "_view_module_version": "1.2.0",
            "_view_name": "StyleView",
            "description_width": ""
          }
        },
        "5f53b0352f274463a0071f6d0de2fafb": {
          "model_module": "@jupyter-widgets/controls",
          "model_name": "HBoxModel",
          "model_module_version": "1.5.0",
          "state": {
            "_dom_classes": [],
            "_model_module": "@jupyter-widgets/controls",
            "_model_module_version": "1.5.0",
            "_model_name": "HBoxModel",
            "_view_count": null,
            "_view_module": "@jupyter-widgets/controls",
            "_view_module_version": "1.5.0",
            "_view_name": "HBoxView",
            "box_style": "",
            "children": [
              "IPY_MODEL_9fe73f0e55ff4416b86726b643247a07",
              "IPY_MODEL_b477b77bfeee4a6e9e981fb624597d58",
              "IPY_MODEL_de866b3d3d054f578cd42bbc9aa30e5e"
            ],
            "layout": "IPY_MODEL_a3f3f09144124c108b13c4c268904bb6"
          }
        },
        "9fe73f0e55ff4416b86726b643247a07": {
          "model_module": "@jupyter-widgets/controls",
          "model_name": "HTMLModel",
          "model_module_version": "1.5.0",
          "state": {
            "_dom_classes": [],
            "_model_module": "@jupyter-widgets/controls",
            "_model_module_version": "1.5.0",
            "_model_name": "HTMLModel",
            "_view_count": null,
            "_view_module": "@jupyter-widgets/controls",
            "_view_module_version": "1.5.0",
            "_view_name": "HTMLView",
            "description": "",
            "description_tooltip": null,
            "layout": "IPY_MODEL_e2f13ad9972246d19dce7b267a5115f4",
            "placeholder": "​",
            "style": "IPY_MODEL_d43b241bda4647b797407d42ad44b2d2",
            "value": "Downloading (…)olve/main/vocab.json: 100%"
          }
        },
        "b477b77bfeee4a6e9e981fb624597d58": {
          "model_module": "@jupyter-widgets/controls",
          "model_name": "FloatProgressModel",
          "model_module_version": "1.5.0",
          "state": {
            "_dom_classes": [],
            "_model_module": "@jupyter-widgets/controls",
            "_model_module_version": "1.5.0",
            "_model_name": "FloatProgressModel",
            "_view_count": null,
            "_view_module": "@jupyter-widgets/controls",
            "_view_module_version": "1.5.0",
            "_view_name": "ProgressView",
            "bar_style": "success",
            "description": "",
            "description_tooltip": null,
            "layout": "IPY_MODEL_1fcb6d25490c46b9abe5afac2fcca58b",
            "max": 898823,
            "min": 0,
            "orientation": "horizontal",
            "style": "IPY_MODEL_160e7720865e418984bb8f01d2809716",
            "value": 898823
          }
        },
        "de866b3d3d054f578cd42bbc9aa30e5e": {
          "model_module": "@jupyter-widgets/controls",
          "model_name": "HTMLModel",
          "model_module_version": "1.5.0",
          "state": {
            "_dom_classes": [],
            "_model_module": "@jupyter-widgets/controls",
            "_model_module_version": "1.5.0",
            "_model_name": "HTMLModel",
            "_view_count": null,
            "_view_module": "@jupyter-widgets/controls",
            "_view_module_version": "1.5.0",
            "_view_name": "HTMLView",
            "description": "",
            "description_tooltip": null,
            "layout": "IPY_MODEL_3132639e837246d48b8d22bb7f639bc8",
            "placeholder": "​",
            "style": "IPY_MODEL_df71b6b17a994298adff4f080ed00557",
            "value": " 899k/899k [00:00&lt;00:00, 4.52MB/s]"
          }
        },
        "a3f3f09144124c108b13c4c268904bb6": {
          "model_module": "@jupyter-widgets/base",
          "model_name": "LayoutModel",
          "model_module_version": "1.2.0",
          "state": {
            "_model_module": "@jupyter-widgets/base",
            "_model_module_version": "1.2.0",
            "_model_name": "LayoutModel",
            "_view_count": null,
            "_view_module": "@jupyter-widgets/base",
            "_view_module_version": "1.2.0",
            "_view_name": "LayoutView",
            "align_content": null,
            "align_items": null,
            "align_self": null,
            "border": null,
            "bottom": null,
            "display": null,
            "flex": null,
            "flex_flow": null,
            "grid_area": null,
            "grid_auto_columns": null,
            "grid_auto_flow": null,
            "grid_auto_rows": null,
            "grid_column": null,
            "grid_gap": null,
            "grid_row": null,
            "grid_template_areas": null,
            "grid_template_columns": null,
            "grid_template_rows": null,
            "height": null,
            "justify_content": null,
            "justify_items": null,
            "left": null,
            "margin": null,
            "max_height": null,
            "max_width": null,
            "min_height": null,
            "min_width": null,
            "object_fit": null,
            "object_position": null,
            "order": null,
            "overflow": null,
            "overflow_x": null,
            "overflow_y": null,
            "padding": null,
            "right": null,
            "top": null,
            "visibility": null,
            "width": null
          }
        },
        "e2f13ad9972246d19dce7b267a5115f4": {
          "model_module": "@jupyter-widgets/base",
          "model_name": "LayoutModel",
          "model_module_version": "1.2.0",
          "state": {
            "_model_module": "@jupyter-widgets/base",
            "_model_module_version": "1.2.0",
            "_model_name": "LayoutModel",
            "_view_count": null,
            "_view_module": "@jupyter-widgets/base",
            "_view_module_version": "1.2.0",
            "_view_name": "LayoutView",
            "align_content": null,
            "align_items": null,
            "align_self": null,
            "border": null,
            "bottom": null,
            "display": null,
            "flex": null,
            "flex_flow": null,
            "grid_area": null,
            "grid_auto_columns": null,
            "grid_auto_flow": null,
            "grid_auto_rows": null,
            "grid_column": null,
            "grid_gap": null,
            "grid_row": null,
            "grid_template_areas": null,
            "grid_template_columns": null,
            "grid_template_rows": null,
            "height": null,
            "justify_content": null,
            "justify_items": null,
            "left": null,
            "margin": null,
            "max_height": null,
            "max_width": null,
            "min_height": null,
            "min_width": null,
            "object_fit": null,
            "object_position": null,
            "order": null,
            "overflow": null,
            "overflow_x": null,
            "overflow_y": null,
            "padding": null,
            "right": null,
            "top": null,
            "visibility": null,
            "width": null
          }
        },
        "d43b241bda4647b797407d42ad44b2d2": {
          "model_module": "@jupyter-widgets/controls",
          "model_name": "DescriptionStyleModel",
          "model_module_version": "1.5.0",
          "state": {
            "_model_module": "@jupyter-widgets/controls",
            "_model_module_version": "1.5.0",
            "_model_name": "DescriptionStyleModel",
            "_view_count": null,
            "_view_module": "@jupyter-widgets/base",
            "_view_module_version": "1.2.0",
            "_view_name": "StyleView",
            "description_width": ""
          }
        },
        "1fcb6d25490c46b9abe5afac2fcca58b": {
          "model_module": "@jupyter-widgets/base",
          "model_name": "LayoutModel",
          "model_module_version": "1.2.0",
          "state": {
            "_model_module": "@jupyter-widgets/base",
            "_model_module_version": "1.2.0",
            "_model_name": "LayoutModel",
            "_view_count": null,
            "_view_module": "@jupyter-widgets/base",
            "_view_module_version": "1.2.0",
            "_view_name": "LayoutView",
            "align_content": null,
            "align_items": null,
            "align_self": null,
            "border": null,
            "bottom": null,
            "display": null,
            "flex": null,
            "flex_flow": null,
            "grid_area": null,
            "grid_auto_columns": null,
            "grid_auto_flow": null,
            "grid_auto_rows": null,
            "grid_column": null,
            "grid_gap": null,
            "grid_row": null,
            "grid_template_areas": null,
            "grid_template_columns": null,
            "grid_template_rows": null,
            "height": null,
            "justify_content": null,
            "justify_items": null,
            "left": null,
            "margin": null,
            "max_height": null,
            "max_width": null,
            "min_height": null,
            "min_width": null,
            "object_fit": null,
            "object_position": null,
            "order": null,
            "overflow": null,
            "overflow_x": null,
            "overflow_y": null,
            "padding": null,
            "right": null,
            "top": null,
            "visibility": null,
            "width": null
          }
        },
        "160e7720865e418984bb8f01d2809716": {
          "model_module": "@jupyter-widgets/controls",
          "model_name": "ProgressStyleModel",
          "model_module_version": "1.5.0",
          "state": {
            "_model_module": "@jupyter-widgets/controls",
            "_model_module_version": "1.5.0",
            "_model_name": "ProgressStyleModel",
            "_view_count": null,
            "_view_module": "@jupyter-widgets/base",
            "_view_module_version": "1.2.0",
            "_view_name": "StyleView",
            "bar_color": null,
            "description_width": ""
          }
        },
        "3132639e837246d48b8d22bb7f639bc8": {
          "model_module": "@jupyter-widgets/base",
          "model_name": "LayoutModel",
          "model_module_version": "1.2.0",
          "state": {
            "_model_module": "@jupyter-widgets/base",
            "_model_module_version": "1.2.0",
            "_model_name": "LayoutModel",
            "_view_count": null,
            "_view_module": "@jupyter-widgets/base",
            "_view_module_version": "1.2.0",
            "_view_name": "LayoutView",
            "align_content": null,
            "align_items": null,
            "align_self": null,
            "border": null,
            "bottom": null,
            "display": null,
            "flex": null,
            "flex_flow": null,
            "grid_area": null,
            "grid_auto_columns": null,
            "grid_auto_flow": null,
            "grid_auto_rows": null,
            "grid_column": null,
            "grid_gap": null,
            "grid_row": null,
            "grid_template_areas": null,
            "grid_template_columns": null,
            "grid_template_rows": null,
            "height": null,
            "justify_content": null,
            "justify_items": null,
            "left": null,
            "margin": null,
            "max_height": null,
            "max_width": null,
            "min_height": null,
            "min_width": null,
            "object_fit": null,
            "object_position": null,
            "order": null,
            "overflow": null,
            "overflow_x": null,
            "overflow_y": null,
            "padding": null,
            "right": null,
            "top": null,
            "visibility": null,
            "width": null
          }
        },
        "df71b6b17a994298adff4f080ed00557": {
          "model_module": "@jupyter-widgets/controls",
          "model_name": "DescriptionStyleModel",
          "model_module_version": "1.5.0",
          "state": {
            "_model_module": "@jupyter-widgets/controls",
            "_model_module_version": "1.5.0",
            "_model_name": "DescriptionStyleModel",
            "_view_count": null,
            "_view_module": "@jupyter-widgets/base",
            "_view_module_version": "1.2.0",
            "_view_name": "StyleView",
            "description_width": ""
          }
        },
        "6bf143dc10714a26808864248a9ad290": {
          "model_module": "@jupyter-widgets/controls",
          "model_name": "HBoxModel",
          "model_module_version": "1.5.0",
          "state": {
            "_dom_classes": [],
            "_model_module": "@jupyter-widgets/controls",
            "_model_module_version": "1.5.0",
            "_model_name": "HBoxModel",
            "_view_count": null,
            "_view_module": "@jupyter-widgets/controls",
            "_view_module_version": "1.5.0",
            "_view_name": "HBoxView",
            "box_style": "",
            "children": [
              "IPY_MODEL_791f04d78e4f455a9466be2ba4e0c025",
              "IPY_MODEL_3589c72e123143cd82aa84f90a444d26",
              "IPY_MODEL_728472aa5ebe4e6da73660e4099385ee"
            ],
            "layout": "IPY_MODEL_8dccba8ad1e443b48889547115408229"
          }
        },
        "791f04d78e4f455a9466be2ba4e0c025": {
          "model_module": "@jupyter-widgets/controls",
          "model_name": "HTMLModel",
          "model_module_version": "1.5.0",
          "state": {
            "_dom_classes": [],
            "_model_module": "@jupyter-widgets/controls",
            "_model_module_version": "1.5.0",
            "_model_name": "HTMLModel",
            "_view_count": null,
            "_view_module": "@jupyter-widgets/controls",
            "_view_module_version": "1.5.0",
            "_view_name": "HTMLView",
            "description": "",
            "description_tooltip": null,
            "layout": "IPY_MODEL_8e4e14d68e1345c2be2d1e019d041599",
            "placeholder": "​",
            "style": "IPY_MODEL_92625b5407444fc89a3c5bddaa1f299a",
            "value": "Downloading (…)olve/main/merges.txt: 100%"
          }
        },
        "3589c72e123143cd82aa84f90a444d26": {
          "model_module": "@jupyter-widgets/controls",
          "model_name": "FloatProgressModel",
          "model_module_version": "1.5.0",
          "state": {
            "_dom_classes": [],
            "_model_module": "@jupyter-widgets/controls",
            "_model_module_version": "1.5.0",
            "_model_name": "FloatProgressModel",
            "_view_count": null,
            "_view_module": "@jupyter-widgets/controls",
            "_view_module_version": "1.5.0",
            "_view_name": "ProgressView",
            "bar_style": "success",
            "description": "",
            "description_tooltip": null,
            "layout": "IPY_MODEL_3e9bf399af234fb3a388826a1e7783e5",
            "max": 456318,
            "min": 0,
            "orientation": "horizontal",
            "style": "IPY_MODEL_2a0ff80f67b4415398e5bf2218f079ae",
            "value": 456318
          }
        },
        "728472aa5ebe4e6da73660e4099385ee": {
          "model_module": "@jupyter-widgets/controls",
          "model_name": "HTMLModel",
          "model_module_version": "1.5.0",
          "state": {
            "_dom_classes": [],
            "_model_module": "@jupyter-widgets/controls",
            "_model_module_version": "1.5.0",
            "_model_name": "HTMLModel",
            "_view_count": null,
            "_view_module": "@jupyter-widgets/controls",
            "_view_module_version": "1.5.0",
            "_view_name": "HTMLView",
            "description": "",
            "description_tooltip": null,
            "layout": "IPY_MODEL_8002463b28ad43fb851d01b67f1e01fa",
            "placeholder": "​",
            "style": "IPY_MODEL_f7de32f1d4774369af6ffb3156432bad",
            "value": " 456k/456k [00:00&lt;00:00, 3.49MB/s]"
          }
        },
        "8dccba8ad1e443b48889547115408229": {
          "model_module": "@jupyter-widgets/base",
          "model_name": "LayoutModel",
          "model_module_version": "1.2.0",
          "state": {
            "_model_module": "@jupyter-widgets/base",
            "_model_module_version": "1.2.0",
            "_model_name": "LayoutModel",
            "_view_count": null,
            "_view_module": "@jupyter-widgets/base",
            "_view_module_version": "1.2.0",
            "_view_name": "LayoutView",
            "align_content": null,
            "align_items": null,
            "align_self": null,
            "border": null,
            "bottom": null,
            "display": null,
            "flex": null,
            "flex_flow": null,
            "grid_area": null,
            "grid_auto_columns": null,
            "grid_auto_flow": null,
            "grid_auto_rows": null,
            "grid_column": null,
            "grid_gap": null,
            "grid_row": null,
            "grid_template_areas": null,
            "grid_template_columns": null,
            "grid_template_rows": null,
            "height": null,
            "justify_content": null,
            "justify_items": null,
            "left": null,
            "margin": null,
            "max_height": null,
            "max_width": null,
            "min_height": null,
            "min_width": null,
            "object_fit": null,
            "object_position": null,
            "order": null,
            "overflow": null,
            "overflow_x": null,
            "overflow_y": null,
            "padding": null,
            "right": null,
            "top": null,
            "visibility": null,
            "width": null
          }
        },
        "8e4e14d68e1345c2be2d1e019d041599": {
          "model_module": "@jupyter-widgets/base",
          "model_name": "LayoutModel",
          "model_module_version": "1.2.0",
          "state": {
            "_model_module": "@jupyter-widgets/base",
            "_model_module_version": "1.2.0",
            "_model_name": "LayoutModel",
            "_view_count": null,
            "_view_module": "@jupyter-widgets/base",
            "_view_module_version": "1.2.0",
            "_view_name": "LayoutView",
            "align_content": null,
            "align_items": null,
            "align_self": null,
            "border": null,
            "bottom": null,
            "display": null,
            "flex": null,
            "flex_flow": null,
            "grid_area": null,
            "grid_auto_columns": null,
            "grid_auto_flow": null,
            "grid_auto_rows": null,
            "grid_column": null,
            "grid_gap": null,
            "grid_row": null,
            "grid_template_areas": null,
            "grid_template_columns": null,
            "grid_template_rows": null,
            "height": null,
            "justify_content": null,
            "justify_items": null,
            "left": null,
            "margin": null,
            "max_height": null,
            "max_width": null,
            "min_height": null,
            "min_width": null,
            "object_fit": null,
            "object_position": null,
            "order": null,
            "overflow": null,
            "overflow_x": null,
            "overflow_y": null,
            "padding": null,
            "right": null,
            "top": null,
            "visibility": null,
            "width": null
          }
        },
        "92625b5407444fc89a3c5bddaa1f299a": {
          "model_module": "@jupyter-widgets/controls",
          "model_name": "DescriptionStyleModel",
          "model_module_version": "1.5.0",
          "state": {
            "_model_module": "@jupyter-widgets/controls",
            "_model_module_version": "1.5.0",
            "_model_name": "DescriptionStyleModel",
            "_view_count": null,
            "_view_module": "@jupyter-widgets/base",
            "_view_module_version": "1.2.0",
            "_view_name": "StyleView",
            "description_width": ""
          }
        },
        "3e9bf399af234fb3a388826a1e7783e5": {
          "model_module": "@jupyter-widgets/base",
          "model_name": "LayoutModel",
          "model_module_version": "1.2.0",
          "state": {
            "_model_module": "@jupyter-widgets/base",
            "_model_module_version": "1.2.0",
            "_model_name": "LayoutModel",
            "_view_count": null,
            "_view_module": "@jupyter-widgets/base",
            "_view_module_version": "1.2.0",
            "_view_name": "LayoutView",
            "align_content": null,
            "align_items": null,
            "align_self": null,
            "border": null,
            "bottom": null,
            "display": null,
            "flex": null,
            "flex_flow": null,
            "grid_area": null,
            "grid_auto_columns": null,
            "grid_auto_flow": null,
            "grid_auto_rows": null,
            "grid_column": null,
            "grid_gap": null,
            "grid_row": null,
            "grid_template_areas": null,
            "grid_template_columns": null,
            "grid_template_rows": null,
            "height": null,
            "justify_content": null,
            "justify_items": null,
            "left": null,
            "margin": null,
            "max_height": null,
            "max_width": null,
            "min_height": null,
            "min_width": null,
            "object_fit": null,
            "object_position": null,
            "order": null,
            "overflow": null,
            "overflow_x": null,
            "overflow_y": null,
            "padding": null,
            "right": null,
            "top": null,
            "visibility": null,
            "width": null
          }
        },
        "2a0ff80f67b4415398e5bf2218f079ae": {
          "model_module": "@jupyter-widgets/controls",
          "model_name": "ProgressStyleModel",
          "model_module_version": "1.5.0",
          "state": {
            "_model_module": "@jupyter-widgets/controls",
            "_model_module_version": "1.5.0",
            "_model_name": "ProgressStyleModel",
            "_view_count": null,
            "_view_module": "@jupyter-widgets/base",
            "_view_module_version": "1.2.0",
            "_view_name": "StyleView",
            "bar_color": null,
            "description_width": ""
          }
        },
        "8002463b28ad43fb851d01b67f1e01fa": {
          "model_module": "@jupyter-widgets/base",
          "model_name": "LayoutModel",
          "model_module_version": "1.2.0",
          "state": {
            "_model_module": "@jupyter-widgets/base",
            "_model_module_version": "1.2.0",
            "_model_name": "LayoutModel",
            "_view_count": null,
            "_view_module": "@jupyter-widgets/base",
            "_view_module_version": "1.2.0",
            "_view_name": "LayoutView",
            "align_content": null,
            "align_items": null,
            "align_self": null,
            "border": null,
            "bottom": null,
            "display": null,
            "flex": null,
            "flex_flow": null,
            "grid_area": null,
            "grid_auto_columns": null,
            "grid_auto_flow": null,
            "grid_auto_rows": null,
            "grid_column": null,
            "grid_gap": null,
            "grid_row": null,
            "grid_template_areas": null,
            "grid_template_columns": null,
            "grid_template_rows": null,
            "height": null,
            "justify_content": null,
            "justify_items": null,
            "left": null,
            "margin": null,
            "max_height": null,
            "max_width": null,
            "min_height": null,
            "min_width": null,
            "object_fit": null,
            "object_position": null,
            "order": null,
            "overflow": null,
            "overflow_x": null,
            "overflow_y": null,
            "padding": null,
            "right": null,
            "top": null,
            "visibility": null,
            "width": null
          }
        },
        "f7de32f1d4774369af6ffb3156432bad": {
          "model_module": "@jupyter-widgets/controls",
          "model_name": "DescriptionStyleModel",
          "model_module_version": "1.5.0",
          "state": {
            "_model_module": "@jupyter-widgets/controls",
            "_model_module_version": "1.5.0",
            "_model_name": "DescriptionStyleModel",
            "_view_count": null,
            "_view_module": "@jupyter-widgets/base",
            "_view_module_version": "1.2.0",
            "_view_name": "StyleView",
            "description_width": ""
          }
        },
        "aff0b0921f594653b75107399095160c": {
          "model_module": "@jupyter-widgets/controls",
          "model_name": "HBoxModel",
          "model_module_version": "1.5.0",
          "state": {
            "_dom_classes": [],
            "_model_module": "@jupyter-widgets/controls",
            "_model_module_version": "1.5.0",
            "_model_name": "HBoxModel",
            "_view_count": null,
            "_view_module": "@jupyter-widgets/controls",
            "_view_module_version": "1.5.0",
            "_view_name": "HBoxView",
            "box_style": "",
            "children": [
              "IPY_MODEL_80313d58f1c54dc89be61068c888eccc",
              "IPY_MODEL_2c2cd93f1a2d42d79366ca79e5f5b638",
              "IPY_MODEL_b235332fd1b14aa1a18e7939a5696f09"
            ],
            "layout": "IPY_MODEL_9634a3e714d940d59a77ff7c408d43a3"
          }
        },
        "80313d58f1c54dc89be61068c888eccc": {
          "model_module": "@jupyter-widgets/controls",
          "model_name": "HTMLModel",
          "model_module_version": "1.5.0",
          "state": {
            "_dom_classes": [],
            "_model_module": "@jupyter-widgets/controls",
            "_model_module_version": "1.5.0",
            "_model_name": "HTMLModel",
            "_view_count": null,
            "_view_module": "@jupyter-widgets/controls",
            "_view_module_version": "1.5.0",
            "_view_name": "HTMLView",
            "description": "",
            "description_tooltip": null,
            "layout": "IPY_MODEL_832869e5313e46ca904685544fefc579",
            "placeholder": "​",
            "style": "IPY_MODEL_7703dea83f0540d48765362f052e7230",
            "value": "Downloading (…)/main/tokenizer.json: 100%"
          }
        },
        "2c2cd93f1a2d42d79366ca79e5f5b638": {
          "model_module": "@jupyter-widgets/controls",
          "model_name": "FloatProgressModel",
          "model_module_version": "1.5.0",
          "state": {
            "_dom_classes": [],
            "_model_module": "@jupyter-widgets/controls",
            "_model_module_version": "1.5.0",
            "_model_name": "FloatProgressModel",
            "_view_count": null,
            "_view_module": "@jupyter-widgets/controls",
            "_view_module_version": "1.5.0",
            "_view_name": "ProgressView",
            "bar_style": "success",
            "description": "",
            "description_tooltip": null,
            "layout": "IPY_MODEL_dde6ea4045b7410a972d69bf7cf1fe75",
            "max": 1355863,
            "min": 0,
            "orientation": "horizontal",
            "style": "IPY_MODEL_a70185d5bc694943a5e232fb03259071",
            "value": 1355863
          }
        },
        "b235332fd1b14aa1a18e7939a5696f09": {
          "model_module": "@jupyter-widgets/controls",
          "model_name": "HTMLModel",
          "model_module_version": "1.5.0",
          "state": {
            "_dom_classes": [],
            "_model_module": "@jupyter-widgets/controls",
            "_model_module_version": "1.5.0",
            "_model_name": "HTMLModel",
            "_view_count": null,
            "_view_module": "@jupyter-widgets/controls",
            "_view_module_version": "1.5.0",
            "_view_name": "HTMLView",
            "description": "",
            "description_tooltip": null,
            "layout": "IPY_MODEL_db23ac606ab1458f8d538b71d58db97d",
            "placeholder": "​",
            "style": "IPY_MODEL_5fffbd0bfc1641a0bb9c4c879c88c549",
            "value": " 1.36M/1.36M [00:00&lt;00:00, 5.20MB/s]"
          }
        },
        "9634a3e714d940d59a77ff7c408d43a3": {
          "model_module": "@jupyter-widgets/base",
          "model_name": "LayoutModel",
          "model_module_version": "1.2.0",
          "state": {
            "_model_module": "@jupyter-widgets/base",
            "_model_module_version": "1.2.0",
            "_model_name": "LayoutModel",
            "_view_count": null,
            "_view_module": "@jupyter-widgets/base",
            "_view_module_version": "1.2.0",
            "_view_name": "LayoutView",
            "align_content": null,
            "align_items": null,
            "align_self": null,
            "border": null,
            "bottom": null,
            "display": null,
            "flex": null,
            "flex_flow": null,
            "grid_area": null,
            "grid_auto_columns": null,
            "grid_auto_flow": null,
            "grid_auto_rows": null,
            "grid_column": null,
            "grid_gap": null,
            "grid_row": null,
            "grid_template_areas": null,
            "grid_template_columns": null,
            "grid_template_rows": null,
            "height": null,
            "justify_content": null,
            "justify_items": null,
            "left": null,
            "margin": null,
            "max_height": null,
            "max_width": null,
            "min_height": null,
            "min_width": null,
            "object_fit": null,
            "object_position": null,
            "order": null,
            "overflow": null,
            "overflow_x": null,
            "overflow_y": null,
            "padding": null,
            "right": null,
            "top": null,
            "visibility": null,
            "width": null
          }
        },
        "832869e5313e46ca904685544fefc579": {
          "model_module": "@jupyter-widgets/base",
          "model_name": "LayoutModel",
          "model_module_version": "1.2.0",
          "state": {
            "_model_module": "@jupyter-widgets/base",
            "_model_module_version": "1.2.0",
            "_model_name": "LayoutModel",
            "_view_count": null,
            "_view_module": "@jupyter-widgets/base",
            "_view_module_version": "1.2.0",
            "_view_name": "LayoutView",
            "align_content": null,
            "align_items": null,
            "align_self": null,
            "border": null,
            "bottom": null,
            "display": null,
            "flex": null,
            "flex_flow": null,
            "grid_area": null,
            "grid_auto_columns": null,
            "grid_auto_flow": null,
            "grid_auto_rows": null,
            "grid_column": null,
            "grid_gap": null,
            "grid_row": null,
            "grid_template_areas": null,
            "grid_template_columns": null,
            "grid_template_rows": null,
            "height": null,
            "justify_content": null,
            "justify_items": null,
            "left": null,
            "margin": null,
            "max_height": null,
            "max_width": null,
            "min_height": null,
            "min_width": null,
            "object_fit": null,
            "object_position": null,
            "order": null,
            "overflow": null,
            "overflow_x": null,
            "overflow_y": null,
            "padding": null,
            "right": null,
            "top": null,
            "visibility": null,
            "width": null
          }
        },
        "7703dea83f0540d48765362f052e7230": {
          "model_module": "@jupyter-widgets/controls",
          "model_name": "DescriptionStyleModel",
          "model_module_version": "1.5.0",
          "state": {
            "_model_module": "@jupyter-widgets/controls",
            "_model_module_version": "1.5.0",
            "_model_name": "DescriptionStyleModel",
            "_view_count": null,
            "_view_module": "@jupyter-widgets/base",
            "_view_module_version": "1.2.0",
            "_view_name": "StyleView",
            "description_width": ""
          }
        },
        "dde6ea4045b7410a972d69bf7cf1fe75": {
          "model_module": "@jupyter-widgets/base",
          "model_name": "LayoutModel",
          "model_module_version": "1.2.0",
          "state": {
            "_model_module": "@jupyter-widgets/base",
            "_model_module_version": "1.2.0",
            "_model_name": "LayoutModel",
            "_view_count": null,
            "_view_module": "@jupyter-widgets/base",
            "_view_module_version": "1.2.0",
            "_view_name": "LayoutView",
            "align_content": null,
            "align_items": null,
            "align_self": null,
            "border": null,
            "bottom": null,
            "display": null,
            "flex": null,
            "flex_flow": null,
            "grid_area": null,
            "grid_auto_columns": null,
            "grid_auto_flow": null,
            "grid_auto_rows": null,
            "grid_column": null,
            "grid_gap": null,
            "grid_row": null,
            "grid_template_areas": null,
            "grid_template_columns": null,
            "grid_template_rows": null,
            "height": null,
            "justify_content": null,
            "justify_items": null,
            "left": null,
            "margin": null,
            "max_height": null,
            "max_width": null,
            "min_height": null,
            "min_width": null,
            "object_fit": null,
            "object_position": null,
            "order": null,
            "overflow": null,
            "overflow_x": null,
            "overflow_y": null,
            "padding": null,
            "right": null,
            "top": null,
            "visibility": null,
            "width": null
          }
        },
        "a70185d5bc694943a5e232fb03259071": {
          "model_module": "@jupyter-widgets/controls",
          "model_name": "ProgressStyleModel",
          "model_module_version": "1.5.0",
          "state": {
            "_model_module": "@jupyter-widgets/controls",
            "_model_module_version": "1.5.0",
            "_model_name": "ProgressStyleModel",
            "_view_count": null,
            "_view_module": "@jupyter-widgets/base",
            "_view_module_version": "1.2.0",
            "_view_name": "StyleView",
            "bar_color": null,
            "description_width": ""
          }
        },
        "db23ac606ab1458f8d538b71d58db97d": {
          "model_module": "@jupyter-widgets/base",
          "model_name": "LayoutModel",
          "model_module_version": "1.2.0",
          "state": {
            "_model_module": "@jupyter-widgets/base",
            "_model_module_version": "1.2.0",
            "_model_name": "LayoutModel",
            "_view_count": null,
            "_view_module": "@jupyter-widgets/base",
            "_view_module_version": "1.2.0",
            "_view_name": "LayoutView",
            "align_content": null,
            "align_items": null,
            "align_self": null,
            "border": null,
            "bottom": null,
            "display": null,
            "flex": null,
            "flex_flow": null,
            "grid_area": null,
            "grid_auto_columns": null,
            "grid_auto_flow": null,
            "grid_auto_rows": null,
            "grid_column": null,
            "grid_gap": null,
            "grid_row": null,
            "grid_template_areas": null,
            "grid_template_columns": null,
            "grid_template_rows": null,
            "height": null,
            "justify_content": null,
            "justify_items": null,
            "left": null,
            "margin": null,
            "max_height": null,
            "max_width": null,
            "min_height": null,
            "min_width": null,
            "object_fit": null,
            "object_position": null,
            "order": null,
            "overflow": null,
            "overflow_x": null,
            "overflow_y": null,
            "padding": null,
            "right": null,
            "top": null,
            "visibility": null,
            "width": null
          }
        },
        "5fffbd0bfc1641a0bb9c4c879c88c549": {
          "model_module": "@jupyter-widgets/controls",
          "model_name": "DescriptionStyleModel",
          "model_module_version": "1.5.0",
          "state": {
            "_model_module": "@jupyter-widgets/controls",
            "_model_module_version": "1.5.0",
            "_model_name": "DescriptionStyleModel",
            "_view_count": null,
            "_view_module": "@jupyter-widgets/base",
            "_view_module_version": "1.2.0",
            "_view_name": "StyleView",
            "description_width": ""
          }
        }
      }
    }
  },
  "nbformat": 4,
  "nbformat_minor": 0
}
